{
 "cells": [
  {
   "cell_type": "markdown",
   "id": "05055763-a88e-4cd6-8861-46bcec5ae0e4",
   "metadata": {},
   "source": [
    "O objetivo desse projeto foi realizar web scrapping da página com os [100 livros mais vendidos pela Amazon](https://www.amazon.com.br/gp/bestsellers/books/?ie=UTF8&ref_=sv_b_2) coletando informações como nome do livro e autor, preço e avaliações. O resultado final foi gravado em um arquivo estruturado no formato csv"
   ]
  },
  {
   "cell_type": "markdown",
   "id": "95141a65-f354-4298-ae45-83a5c1525833",
   "metadata": {},
   "source": [
    "Obs: \n",
    "- Existem duas páginas com 50 livros cada\n",
    "- Cada página faz uso de JavaScript dinâmico, ou seja o carregamento dos livros é gradual com a rolagem da barra lateral do navegador\n",
    "- Não há padrão entre as URLs das páginas.\n",
    "\n",
    "Perpsectivas:\n",
    "Realizar task a ser executadas de tempos em tempos e alerta por email"
   ]
  },
  {
   "cell_type": "markdown",
   "id": "b3e577b9-736a-4112-b30f-5131f1d5915d",
   "metadata": {},
   "source": [
    "# Pacotes Utilizados"
   ]
  },
  {
   "cell_type": "code",
   "execution_count": 12,
   "id": "05efebb5-a82f-448a-9a08-4a9955de40c1",
   "metadata": {},
   "outputs": [],
   "source": [
    "import requests\n",
    "from bs4 import BeautifulSoup\n",
    "import re\n",
    "\n",
    "from selenium import webdriver\n",
    "import time\n",
    "from selenium.webdriver.common.by import By\n",
    "\n",
    "import pandas as pd\n",
    "\n",
    "pd.set_option('display.max_rows', None)\n",
    "\n",
    "from IPython.display import Image"
   ]
  },
  {
   "cell_type": "markdown",
   "id": "ac9d7700-1f7e-4cfe-a771-d8f304d011d5",
   "metadata": {},
   "source": [
    "# Obtendo Acesso ao Site da Amazon e Coletando HTML da Página"
   ]
  },
  {
   "cell_type": "markdown",
   "id": "b4e2829f-9d2d-41f9-b528-031331c87b56",
   "metadata": {},
   "source": [
    "Inicialmente, vamos enviar uma solicitação HTTP para leitura da página WEB por meio da biblioteca request. Aqui é interessante passar um header indicando que a solicitação vem de um navegador, pois pode acontecer da requisição ser negada caso o servidor identifique que vem de um bot."
   ]
  },
  {
   "cell_type": "code",
   "execution_count": 14,
   "id": "ee4fa108-2ea0-4b4a-83d8-954ce87920d6",
   "metadata": {},
   "outputs": [],
   "source": [
    "url = \"https://www.amazon.com.br/gp/bestsellers/books/?ie=UTF8&ref_=sv_b_2\"\n",
    "\n",
    "#what is my user agent\n",
    "header = {\"User-Agent\":\"Mozilla/5.0 (X11; Linux x86_64) AppleWebKit/537.36 (KHTML, like Gecko) Chrome/96.0.4664.45 Safari/537.36\"}"
   ]
  },
  {
   "cell_type": "code",
   "execution_count": null,
   "id": "ca4a59be-a1bc-45aa-853e-bd43a9c16d50",
   "metadata": {},
   "outputs": [],
   "source": [
    "site = requests.get(url, headers = header)"
   ]
  },
  {
   "cell_type": "code",
   "execution_count": 4,
   "id": "83998bd5-4806-4b3e-ad23-d28876ec9a97",
   "metadata": {},
   "outputs": [
    {
     "data": {
      "text/plain": [
       "<Response [200]>"
      ]
     },
     "execution_count": 4,
     "metadata": {},
     "output_type": "execute_result"
    }
   ],
   "source": [
    "site"
   ]
  },
  {
   "cell_type": "markdown",
   "id": "968e1a0e-cfe3-4267-80e6-1a44eac9c28f",
   "metadata": {},
   "source": [
    "Como a requisição foi bem sucessida (código 200), podemos passar o contéudo da página para um objeto do BeatifulSoup que irá fazer o parser desse HTML permitindo navegar pela sua estrutura de forma simples."
   ]
  },
  {
   "cell_type": "code",
   "execution_count": 6,
   "id": "3f4e1358-8a2f-4d98-ad17-bcef995958be",
   "metadata": {},
   "outputs": [],
   "source": [
    "soup = BeautifulSoup(site.content, \"html.parser\")"
   ]
  },
  {
   "cell_type": "markdown",
   "id": "3de763c1-274b-424a-aa04-32c13919eb7b",
   "metadata": {},
   "source": [
    "# Localizar Informações na Página"
   ]
  },
  {
   "cell_type": "markdown",
   "id": "73a1c9c3-31b1-4a04-ab7a-f571c04cd377",
   "metadata": {},
   "source": [
    "Vamos buscar as seguintes informações referente aos livros:\n",
    "- Posição no Ranking\n",
    "- Nome do Livro\n",
    "- Autor\n",
    "- Preço\n",
    "- Número de Estrelas\n",
    "- Total de Avaliações Concedidas\n",
    "\n",
    "A ideia é usar um livro como teste para encontrar em quais tags estão essas informações identificando um padrão de busca que possa ser extendido para os demais livros de forma automatizada. Também, para cada informação, definirei funções afim de escalar a busca com maior facilidade, sem precisar repetir código na versão final.\n",
    "\n",
    "Utilizando o inspecionar do navegador é possível obervar que cada livro está dentro de uma tag div com id \"gridItemRoot\"."
   ]
  },
  {
   "cell_type": "code",
   "execution_count": 3,
   "id": "0eb98246-1366-4201-8fd2-3088125b9730",
   "metadata": {},
   "outputs": [
    {
     "data": {
      "text/html": [
       "<img src=\"images/tag_grid.png\"/>"
      ],
      "text/plain": [
       "<IPython.core.display.Image object>"
      ]
     },
     "execution_count": 3,
     "metadata": {},
     "output_type": "execute_result"
    }
   ],
   "source": [
    "Image(url=\"images/tag_grid.png\")"
   ]
  },
  {
   "cell_type": "markdown",
   "id": "43f60d99-8338-4deb-94ca-86a5053a745e",
   "metadata": {},
   "source": [
    "Assim, podemos obter as informações de um único livro com:"
   ]
  },
  {
   "cell_type": "code",
   "execution_count": null,
   "id": "f851adf2-2617-4ef1-a3e9-235a26949ae3",
   "metadata": {},
   "outputs": [],
   "source": [
    "livro_teste = soup.find(\"div\", {\"id\":\"gridItemRoot\"})"
   ]
  },
  {
   "cell_type": "markdown",
   "id": "5a1ebb0d-38db-4c3a-bd92-2e0307d02972",
   "metadata": {},
   "source": [
    "Agora, vamos extrair as características desse livro"
   ]
  },
  {
   "cell_type": "markdown",
   "id": "f9828d19-76b2-4137-b501-fcf5d07b413c",
   "metadata": {},
   "source": [
    "## Posição no Ranking"
   ]
  },
  {
   "cell_type": "code",
   "execution_count": 4,
   "id": "afbcf763-aff5-4385-89f0-3d5eff4e914a",
   "metadata": {},
   "outputs": [
    {
     "data": {
      "text/html": [
       "<img src=\"images/tag_rank.png\"/>"
      ],
      "text/plain": [
       "<IPython.core.display.Image object>"
      ]
     },
     "execution_count": 4,
     "metadata": {},
     "output_type": "execute_result"
    }
   ],
   "source": [
    "Image(url=\"images/tag_rank.png\")"
   ]
  },
  {
   "cell_type": "code",
   "execution_count": 9,
   "id": "b763f1d4-1470-42a6-b7c9-6907acd62221",
   "metadata": {},
   "outputs": [
    {
     "data": {
      "text/plain": [
       "'1'"
      ]
     },
     "execution_count": 9,
     "metadata": {},
     "output_type": "execute_result"
    }
   ],
   "source": [
    "# Posição no Ranking\n",
    "livro_teste.find(\"span\", class_ = \"zg-bdg-text\").get_text()[1:]"
   ]
  },
  {
   "cell_type": "code",
   "execution_count": 3,
   "id": "b7481fc3-71d7-41b7-88f3-ea594fbb93dd",
   "metadata": {},
   "outputs": [],
   "source": [
    "def get_ranking(livro):\n",
    "    return livro.find(\"span\", class_ = \"zg-bdg-text\").get_text()[1:]"
   ]
  },
  {
   "cell_type": "markdown",
   "id": "9a9daf56-d2a6-4d18-a633-a72ab623d90d",
   "metadata": {},
   "source": [
    "## Nome do Livro"
   ]
  },
  {
   "cell_type": "code",
   "execution_count": 5,
   "id": "71600121-83e9-4be7-8ad9-88bb82c92527",
   "metadata": {},
   "outputs": [
    {
     "data": {
      "text/html": [
       "<img src=\"images/tag_book_name.png\"/>"
      ],
      "text/plain": [
       "<IPython.core.display.Image object>"
      ]
     },
     "execution_count": 5,
     "metadata": {},
     "output_type": "execute_result"
    }
   ],
   "source": [
    "Image(url=\"images/tag_book_name.png\")"
   ]
  },
  {
   "cell_type": "markdown",
   "id": "fa5e3980-6834-4770-b8e5-12ebf953aa9d",
   "metadata": {},
   "source": [
    "Como o nome da classe é muito grande, realizei uma busca aproximada com regex pelo termo \"clamp-1\" que se repete independente do livro. "
   ]
  },
  {
   "cell_type": "code",
   "execution_count": 11,
   "id": "edfca5af-c84b-4164-a495-ed39e1765254",
   "metadata": {},
   "outputs": [
    {
     "data": {
      "text/plain": [
       "'É Assim que Acaba'"
      ]
     },
     "execution_count": 11,
     "metadata": {},
     "output_type": "execute_result"
    }
   ],
   "source": [
    "# Nome do Livro\n",
    "livro_teste.find(\"div\", class_ = re.compile(\"clamp-1\")).get_text()"
   ]
  },
  {
   "cell_type": "code",
   "execution_count": 4,
   "id": "5375dd3c-39df-4328-9abb-e5e7ea80e9f1",
   "metadata": {},
   "outputs": [],
   "source": [
    "def get_book_name(livro):\n",
    "    return livro.find(\"div\", class_ = re.compile(\"clamp-1\")).get_text()"
   ]
  },
  {
   "cell_type": "markdown",
   "id": "68304305-08ab-403a-86cd-28f67d6d3dc3",
   "metadata": {},
   "source": [
    "## Autor"
   ]
  },
  {
   "cell_type": "code",
   "execution_count": 6,
   "id": "759f2176-090d-4aa7-a9a8-f8b766a75a53",
   "metadata": {},
   "outputs": [
    {
     "data": {
      "text/html": [
       "<img src=\"images/tag_author_name.png\"/>"
      ],
      "text/plain": [
       "<IPython.core.display.Image object>"
      ]
     },
     "execution_count": 6,
     "metadata": {},
     "output_type": "execute_result"
    }
   ],
   "source": [
    "Image(url=\"images/tag_author_name.png\")"
   ]
  },
  {
   "cell_type": "code",
   "execution_count": 13,
   "id": "03fd635e-755f-4be3-aab0-f3a6d66339a6",
   "metadata": {},
   "outputs": [
    {
     "data": {
      "text/plain": [
       "'Colleen Hoover'"
      ]
     },
     "execution_count": 13,
     "metadata": {},
     "output_type": "execute_result"
    }
   ],
   "source": [
    "livro_teste.find(\"div\", class_ = \"a-row a-size-small\").get_text()"
   ]
  },
  {
   "cell_type": "code",
   "execution_count": 5,
   "id": "4fc9d612-928b-4e50-89ff-ebeb848d7853",
   "metadata": {},
   "outputs": [],
   "source": [
    "def get_author_name(livro):\n",
    "    return livro.find(\"div\", class_ = \"a-row a-size-small\").get_text()    "
   ]
  },
  {
   "cell_type": "markdown",
   "id": "abedd45f-0052-42bb-a463-dbcbb8448530",
   "metadata": {},
   "source": [
    "Para os itens abaixo, alguns livros não mostram. Por isso, usei um try except para evitar explpdir uma mensagem de erro tendo em vista que o retorno do find seria nONE."
   ]
  },
  {
   "cell_type": "markdown",
   "id": "9d152632-3e96-4fef-aeaa-9db996d2d59b",
   "metadata": {},
   "source": [
    "## Preço"
   ]
  },
  {
   "cell_type": "code",
   "execution_count": 7,
   "id": "6db63fbb-c993-4aa3-ae21-8cb0ecee8178",
   "metadata": {},
   "outputs": [
    {
     "data": {
      "text/html": [
       "<img src=\"images/tag_price.png\"/>"
      ],
      "text/plain": [
       "<IPython.core.display.Image object>"
      ]
     },
     "execution_count": 7,
     "metadata": {},
     "output_type": "execute_result"
    }
   ],
   "source": [
    "Image(url=\"images/tag_price.png\")"
   ]
  },
  {
   "cell_type": "code",
   "execution_count": 14,
   "id": "cd7ab5be-c1df-453a-ac9e-3d4e70aae481",
   "metadata": {},
   "outputs": [
    {
     "data": {
      "text/plain": [
       "37.42"
      ]
     },
     "execution_count": 14,
     "metadata": {},
     "output_type": "execute_result"
    }
   ],
   "source": [
    "float(livro_teste.find(\"span\", class_ = re.compile(\"price\")).get_text().replace(\",\", \".\")[3:])"
   ]
  },
  {
   "cell_type": "code",
   "execution_count": 6,
   "id": "4239663a-2223-445c-a2c8-68dcabdb85b4",
   "metadata": {},
   "outputs": [],
   "source": [
    "def get_price(livro):\n",
    "    try:\n",
    "        price = float(livro.find(\"span\", class_ = re.compile(\"price\")).get_text().replace(\",\", \".\")[3:])\n",
    "    except AttributeError:\n",
    "        price = 0   \n",
    "    return price  "
   ]
  },
  {
   "cell_type": "markdown",
   "id": "e5de502f-69e2-4a37-a8b1-55a3a7136f4e",
   "metadata": {},
   "source": [
    "## Estrelas"
   ]
  },
  {
   "cell_type": "code",
   "execution_count": 8,
   "id": "e4883ccd-0666-4cb5-a063-2f7ab38b0f1d",
   "metadata": {},
   "outputs": [
    {
     "data": {
      "text/html": [
       "<img src=\"images/tag_stars.png\"/>"
      ],
      "text/plain": [
       "<IPython.core.display.Image object>"
      ]
     },
     "execution_count": 8,
     "metadata": {},
     "output_type": "execute_result"
    }
   ],
   "source": [
    "Image(url=\"images/tag_stars.png\")"
   ]
  },
  {
   "cell_type": "code",
   "execution_count": 21,
   "id": "edd07f26-911c-4f3c-bedd-7caec6cc73b2",
   "metadata": {},
   "outputs": [
    {
     "data": {
      "text/plain": [
       "4.8"
      ]
     },
     "execution_count": 21,
     "metadata": {},
     "output_type": "execute_result"
    }
   ],
   "source": [
    "#estrelas\n",
    "float(livro_teste.find(\"a\", {\"class\":\"a-link-normal\", \"title\":re.compile(\"estrelas\")}).get_text()[0:3].replace(\",\",\".\"))"
   ]
  },
  {
   "cell_type": "code",
   "execution_count": 7,
   "id": "442a6ef9-d67a-4083-b1a3-cfeac9c597bc",
   "metadata": {},
   "outputs": [],
   "source": [
    "def get_stars(livro):\n",
    "    try:\n",
    "        stars = float(livro.find(\"a\", {\"class\":\"a-link-normal\", \"title\":re.compile(\"estrelas\")}).get_text()[0:3].replace(\",\",\".\"))\n",
    "    except AttributeError:\n",
    "        stars = 0\n",
    "    return stars"
   ]
  },
  {
   "cell_type": "markdown",
   "id": "68d1033c-c1f6-449c-b79d-c5f416c5f1f7",
   "metadata": {},
   "source": [
    "## Avaliações"
   ]
  },
  {
   "cell_type": "code",
   "execution_count": 9,
   "id": "30d285b8-76b7-4c6e-ba9e-a9474fc76f60",
   "metadata": {},
   "outputs": [
    {
     "data": {
      "text/html": [
       "<img src=\"images/tag_number_review.png\"/>"
      ],
      "text/plain": [
       "<IPython.core.display.Image object>"
      ]
     },
     "execution_count": 9,
     "metadata": {},
     "output_type": "execute_result"
    }
   ],
   "source": [
    "Image(url=\"images/tag_number_review.png\")"
   ]
  },
  {
   "cell_type": "code",
   "execution_count": null,
   "id": "7c6276ea-47ce-4e9a-b04a-2b541eac995b",
   "metadata": {},
   "outputs": [
    {
     "data": {
      "text/plain": [
       "15271"
      ]
     },
     "execution_count": 17,
     "metadata": {},
     "output_type": "execute_result"
    }
   ],
   "source": [
    "# numero avaliações\n",
    "int(livro_teste.find(lambda tag: tag.name == 'span' and tag.get('class') == ['a-size-small']).get_text().replace(\".\",\"\"))"
   ]
  },
  {
   "cell_type": "markdown",
   "id": "55a04ef4-13ee-4e05-8b53-c39f222a15b0",
   "metadata": {},
   "source": [
    "Aqui, usei uma função anonima para retornar exatamente a tag span com classe \"a-size-small\", pois em alguns livros há uma outra tag span com uma classe \"a-size-small a-color-base\" acima desta. Se usarmos find(\"span\", \"a-size-small\") os elementos contidos nessa segunda tag é que são retornados."
   ]
  },
  {
   "cell_type": "code",
   "execution_count": 8,
   "id": "694f651b-a052-4168-8c19-dfd43552788c",
   "metadata": {},
   "outputs": [],
   "source": [
    "def get_aval_numbers(livro):\n",
    "    try:\n",
    "        aval = int(livro.find(lambda tag: tag.name == 'span' and tag.get('class') == ['a-size-small']).get_text().replace(\".\",\"\"))\n",
    "    except AttributeError:\n",
    "        aval = 0\n",
    "    return aval"
   ]
  },
  {
   "cell_type": "markdown",
   "id": "97b29628-8afb-4e63-9b1d-309a69e7fcc7",
   "metadata": {},
   "source": [
    "Agora que conseguimos recuperar as informações de um único livro basta repetir o procedimento para os demais"
   ]
  },
  {
   "cell_type": "markdown",
   "id": "6900ecf9-125c-418c-937e-a30e1f2f530e",
   "metadata": {
    "tags": []
   },
   "source": [
    "# Obter Informação de Todos os Livros da Página"
   ]
  },
  {
   "cell_type": "markdown",
   "id": "fe964253-8b06-4655-b6fa-787f187d755e",
   "metadata": {},
   "source": [
    "Diferente do método find que retorna apenas uma única ocorrência (a primeira),o find_all retorna todas as ocorrências encontradas em uma lista "
   ]
  },
  {
   "cell_type": "code",
   "execution_count": 25,
   "id": "8798369f-a412-4cb6-9eec-71b26dc21909",
   "metadata": {},
   "outputs": [],
   "source": [
    "#Encontrado todos os grids na página\n",
    "livros = soup.find_all(\"div\", {\"id\":\"gridItemRoot\"})"
   ]
  },
  {
   "cell_type": "code",
   "execution_count": 24,
   "id": "eaee0bee-9699-429e-988d-c85c97968bec",
   "metadata": {},
   "outputs": [
    {
     "data": {
      "text/plain": [
       "30"
      ]
     },
     "execution_count": 24,
     "metadata": {},
     "output_type": "execute_result"
    }
   ],
   "source": [
    "len(livros)"
   ]
  },
  {
   "cell_type": "markdown",
   "id": "54426f81-b867-4f15-94ca-caba5d293c1b",
   "metadata": {},
   "source": [
    "O esperado seria obter 50 livros, mas apenas 30 foram retornados. Isso aconteceu porque a página faz uso de JavaScript dinâmico. Ao abrir a página por um navegador, é possivel observar que apenas os 30 prineiros livros são renderizados e os demais gradativamente com a rolagem da barra de scroll do navegador. Precisamos então antes de coletar o conteudo descer até o final da página e aguardar que todos os livros carreguem. Faremos isso com o auxílio do [Selenium](https://www.selenium.dev/)."
   ]
  },
  {
   "cell_type": "code",
   "execution_count": 27,
   "id": "acfa5f3f-dbc9-455e-a0f1-e04a9ea81222",
   "metadata": {},
   "outputs": [],
   "source": [
    "#instância do browser\n",
    "driver = webdriver.Firefox()\n",
    "\n",
    "#acessar URL\n",
    "driver.get(url)\n",
    "\n",
    "#rolar totalmente o scroll para baixo\n",
    "driver.execute_script(\"window.scrollTo(0, document.body.scrollHeight);\")\n",
    "\n",
    "#sleep para aguardar a página carregar totalmente\n",
    "time.sleep(10)\n",
    "\n",
    "#obter conteudo da página\n",
    "page_source = driver.page_source\n",
    "\n",
    "#fechar o browser\n",
    "driver.quit()"
   ]
  },
  {
   "cell_type": "markdown",
   "id": "8c84d229-c39b-4fe8-88a5-ecf1c63e8f3d",
   "metadata": {},
   "source": [
    "Como não executamos o webdriver em modo silencioso é possível visualizar o browser realizar as tarefas automaticamente. Depois, novamente passamos o conteúdo da página para o BeatifulSoup."
   ]
  },
  {
   "cell_type": "code",
   "execution_count": 29,
   "id": "652aaa3d-637c-4df6-99eb-7496dcd2c901",
   "metadata": {},
   "outputs": [],
   "source": [
    "soup = BeautifulSoup(page_source, \"html.parser\")"
   ]
  },
  {
   "cell_type": "code",
   "execution_count": 30,
   "id": "fa2d99d7-2c45-489c-9a70-5b62f833c568",
   "metadata": {},
   "outputs": [],
   "source": [
    "livros = soup.find_all(\"div\", {\"id\":\"gridItemRoot\"})"
   ]
  },
  {
   "cell_type": "code",
   "execution_count": 31,
   "id": "4905965a-ca32-4716-b5b0-386f33f70830",
   "metadata": {},
   "outputs": [
    {
     "data": {
      "text/plain": [
       "50"
      ]
     },
     "execution_count": 31,
     "metadata": {},
     "output_type": "execute_result"
    }
   ],
   "source": [
    "len(livros)"
   ]
  },
  {
   "cell_type": "markdown",
   "id": "c8182169-22f9-40ba-a977-9dc1ad68355e",
   "metadata": {},
   "source": [
    "Agora sim temos todos os 50 livros da primeira página! Como o URL da página 2 é totalmente diferente, não podemos iterar por meio de um loop alterando o valor de i de 1 para 2, por exemplo. É necessário efetuar um click no botão \"próxima página\" e só então iniciar a coleta do contéudo.\n",
    "\n",
    "Basicamente essas são as etapas a ser realizadas:\n",
    "- 1: acessar URL da página 1\n",
    "- 2: rolar o scroll da página para baixo até o fim\n",
    "- 3: aguardar um pequeno período para a página renderizar totalmente\n",
    "- 4: obter conteúdo HTML da página 1\n",
    "- 5: efetuar click no botão \"próxima página\" para acessar a página 2\n",
    "- 6: rolar o scroll da página para baixo até o fim\n",
    "- 7: aguardar um pequeno período para a página renderizar totalmente\n",
    "- 8: obter conteúdo HTML da página 2"
   ]
  },
  {
   "cell_type": "code",
   "execution_count": 22,
   "id": "e0f06c2d-6192-4b65-a5c5-1b160a5f5c83",
   "metadata": {},
   "outputs": [],
   "source": [
    "html_pages = []\n",
    "\n",
    "#instância do browser\n",
    "driver = webdriver.Firefox()\n",
    "\n",
    "#acessar URL\n",
    "driver.get(url)\n",
    "\n",
    "#rolar totalmente o scroll para baixo\n",
    "driver.execute_script(\"window.scrollTo(0, document.body.scrollHeight);\")\n",
    "\n",
    "#sleep para aguardar a página carregar totalmente\n",
    "time.sleep(10)\n",
    "\n",
    "#obter conteudo da página\n",
    "html_pages.append(driver.page_source)\n",
    "\n",
    "#avançar para proxima pagina\n",
    "next_button = driver.find_element(By.CLASS_NAME, \"a-normal\")\n",
    "next_button.click()\n",
    "driver.execute_script(\"window.scrollTo(0, document.body.scrollHeight);\")\n",
    "time.sleep(10)\n",
    "\n",
    "html_pages.append(driver.page_source)\n",
    "\n",
    "#fechar o browser\n",
    "driver.quit()"
   ]
  },
  {
   "cell_type": "code",
   "execution_count": 26,
   "id": "b6fc5483-52f9-43b6-a666-05740692840d",
   "metadata": {},
   "outputs": [
    {
     "data": {
      "text/plain": [
       "2"
      ]
     },
     "execution_count": 26,
     "metadata": {},
     "output_type": "execute_result"
    }
   ],
   "source": [
    "len(html_pages)"
   ]
  },
  {
   "cell_type": "markdown",
   "id": "2f1d246d-f60e-4ffe-a0bd-bf05ef435194",
   "metadata": {},
   "source": [
    "Agora que temos o HTML das duas páginas, basta apenas criar uma estrutura para armazenar os resultados e ir preenchendo-as com as funções determinadas anteriormentes por meio de um loop para cada página."
   ]
  },
  {
   "cell_type": "code",
   "execution_count": 10,
   "id": "8e4da44c-6de9-4b5e-850b-0c9d87947299",
   "metadata": {},
   "outputs": [],
   "source": [
    "result = {\"Posição\":[],\n",
    "         \"Livro\":[],\n",
    "         \"Autor\":[],\n",
    "         \"Preço\":[],\n",
    "         \"Avaliação\":[],\n",
    "         \"Número Reviews\":[]}"
   ]
  },
  {
   "cell_type": "code",
   "execution_count": 11,
   "id": "2b1c4599-a5dd-4552-807c-df3acbdf3f04",
   "metadata": {},
   "outputs": [],
   "source": [
    "for i in range(len(html_pages)):\n",
    "    soup = BeautifulSoup(html_pages[i], \"html.parser\")\n",
    "    livros = soup.find_all(\"div\", {\"id\":\"gridItemRoot\"})\n",
    "    \n",
    "    for livro in livros:\n",
    "        result[\"Posição\"].append(get_ranking(livro))\n",
    "        result[\"Livro\"].append(get_book_name(livro))\n",
    "        result[\"Autor\"].append(get_author_name(livro))\n",
    "        result[\"Preço\"].append(get_price(livro))\n",
    "        result[\"Avaliação\"].append(get_stars(livro))\n",
    "        result[\"Número Reviews\"].append(get_aval_numbers(livro))\n",
    "    "
   ]
  },
  {
   "cell_type": "code",
   "execution_count": 12,
   "id": "4b5c9fd0-9649-4d6f-b864-920cf67405da",
   "metadata": {},
   "outputs": [
    {
     "data": {
      "text/plain": [
       "(100, 6)"
      ]
     },
     "execution_count": 12,
     "metadata": {},
     "output_type": "execute_result"
    }
   ],
   "source": [
    "pd.DataFrame(result).shape"
   ]
  },
  {
   "cell_type": "markdown",
   "id": "f54f8fa4-168e-44f3-a213-4eae068212f9",
   "metadata": {},
   "source": [
    "Temos todos os 100 livros com as 6 informações buscadas. Vamos gravar e visualizar o resultado em um DataFrame"
   ]
  },
  {
   "cell_type": "code",
   "execution_count": 13,
   "id": "1b8091f3-0d65-48d1-8870-91e7f29d09e8",
   "metadata": {},
   "outputs": [],
   "source": [
    "df = pd.DataFrame(result)"
   ]
  },
  {
   "cell_type": "code",
   "execution_count": 14,
   "id": "a7612751-8ae3-40cd-8fcc-1390598d1adc",
   "metadata": {},
   "outputs": [
    {
     "data": {
      "text/html": [
       "<div>\n",
       "<style scoped>\n",
       "    .dataframe tbody tr th:only-of-type {\n",
       "        vertical-align: middle;\n",
       "    }\n",
       "\n",
       "    .dataframe tbody tr th {\n",
       "        vertical-align: top;\n",
       "    }\n",
       "\n",
       "    .dataframe thead th {\n",
       "        text-align: right;\n",
       "    }\n",
       "</style>\n",
       "<table border=\"1\" class=\"dataframe\">\n",
       "  <thead>\n",
       "    <tr style=\"text-align: right;\">\n",
       "      <th></th>\n",
       "      <th>Posição</th>\n",
       "      <th>Livro</th>\n",
       "      <th>Autor</th>\n",
       "      <th>Preço</th>\n",
       "      <th>Avaliação</th>\n",
       "      <th>Número Reviews</th>\n",
       "    </tr>\n",
       "  </thead>\n",
       "  <tbody>\n",
       "    <tr>\n",
       "      <th>0</th>\n",
       "      <td>1</td>\n",
       "      <td>É Assim que Acaba</td>\n",
       "      <td>Colleen Hoover</td>\n",
       "      <td>37.42</td>\n",
       "      <td>4.8</td>\n",
       "      <td>15273</td>\n",
       "    </tr>\n",
       "    <tr>\n",
       "      <th>1</th>\n",
       "      <td>2</td>\n",
       "      <td>Amor &amp; Gelato: 1</td>\n",
       "      <td>Jenna Evans Welch</td>\n",
       "      <td>30.00</td>\n",
       "      <td>4.7</td>\n",
       "      <td>11300</td>\n",
       "    </tr>\n",
       "    <tr>\n",
       "      <th>2</th>\n",
       "      <td>3</td>\n",
       "      <td>A garota do lago</td>\n",
       "      <td>Charlie Donlea</td>\n",
       "      <td>8.50</td>\n",
       "      <td>4.7</td>\n",
       "      <td>25492</td>\n",
       "    </tr>\n",
       "    <tr>\n",
       "      <th>3</th>\n",
       "      <td>4</td>\n",
       "      <td>Spy X Family Vol. 7</td>\n",
       "      <td>Tatsuya Endou</td>\n",
       "      <td>23.40</td>\n",
       "      <td>4.9</td>\n",
       "      <td>325</td>\n",
       "    </tr>\n",
       "    <tr>\n",
       "      <th>4</th>\n",
       "      <td>5</td>\n",
       "      <td>PING PONG VOL. 1</td>\n",
       "      <td>TAYO MATSUMOTO</td>\n",
       "      <td>67.40</td>\n",
       "      <td>4.8</td>\n",
       "      <td>90</td>\n",
       "    </tr>\n",
       "  </tbody>\n",
       "</table>\n",
       "</div>"
      ],
      "text/plain": [
       "  Posição                Livro              Autor  Preço  Avaliação  \\\n",
       "0       1    É Assim que Acaba     Colleen Hoover  37.42        4.8   \n",
       "1       2     Amor & Gelato: 1  Jenna Evans Welch  30.00        4.7   \n",
       "2       3     A garota do lago     Charlie Donlea   8.50        4.7   \n",
       "3       4  Spy X Family Vol. 7      Tatsuya Endou  23.40        4.9   \n",
       "4       5     PING PONG VOL. 1     TAYO MATSUMOTO  67.40        4.8   \n",
       "\n",
       "   Número Reviews  \n",
       "0           15273  \n",
       "1           11300  \n",
       "2           25492  \n",
       "3             325  \n",
       "4              90  "
      ]
     },
     "execution_count": 14,
     "metadata": {},
     "output_type": "execute_result"
    }
   ],
   "source": [
    "df.head()"
   ]
  },
  {
   "cell_type": "code",
   "execution_count": 28,
   "id": "ea5bf3cb-28da-4b90-a1fe-dacaf04c7062",
   "metadata": {},
   "outputs": [],
   "source": [
    "df = pd.read_csv(\"top100_books_amazon.csv\")"
   ]
  },
  {
   "cell_type": "markdown",
   "id": "fa0bd2bd-0b86-4437-8ba8-ac87f067af12",
   "metadata": {},
   "source": [
    "# Rápida Análise Exploratória"
   ]
  },
  {
   "cell_type": "code",
   "execution_count": 29,
   "id": "ab2361ff-b4d5-4502-9e3c-405de53f2366",
   "metadata": {},
   "outputs": [],
   "source": [
    "serie = df[\"Autor\"].value_counts() "
   ]
  },
  {
   "cell_type": "code",
   "execution_count": 33,
   "id": "0a6cfd53-87d3-46e3-8517-193d3fe76a2b",
   "metadata": {},
   "outputs": [
    {
     "data": {
      "image/png": "[encoded data removed]",
      "text/plain": [
       "<Figure size 432x288 with 1 Axes>"
      ]
     },
     "metadata": {
      "needs_background": "light"
     },
     "output_type": "display_data"
    }
   ],
   "source": [
    "serie[serie > 1].plot.bar();"
   ]
  },
  {
   "cell_type": "markdown",
   "id": "7555803e-f08a-40c1-b570-c706de79e130",
   "metadata": {},
   "source": [
    "Dentre os autores com mais livros no top 100, se destaca a Collen Hoover com nada mais nada menos do que 7 livros!! Também há a presença de um brasileiro na lista, o criador do maior canal de educação financeira do Brasil, Primo Rico, Thiago Nigro, além de outros autores famosos como J.K.Rowling, Tolkien e George Orwell."
   ]
  },
  {
   "cell_type": "code",
   "execution_count": 16,
   "id": "312bcb17-bbb6-409a-90bc-377f9bb32834",
   "metadata": {},
   "outputs": [
    {
     "data": {
      "text/html": [
       "<div>\n",
       "<style scoped>\n",
       "    .dataframe tbody tr th:only-of-type {\n",
       "        vertical-align: middle;\n",
       "    }\n",
       "\n",
       "    .dataframe tbody tr th {\n",
       "        vertical-align: top;\n",
       "    }\n",
       "\n",
       "    .dataframe thead th {\n",
       "        text-align: right;\n",
       "    }\n",
       "</style>\n",
       "<table border=\"1\" class=\"dataframe\">\n",
       "  <thead>\n",
       "    <tr style=\"text-align: right;\">\n",
       "      <th></th>\n",
       "      <th>Posição</th>\n",
       "      <th>Livro</th>\n",
       "      <th>Autor</th>\n",
       "      <th>Preço</th>\n",
       "      <th>Avaliação</th>\n",
       "      <th>Número Reviews</th>\n",
       "    </tr>\n",
       "  </thead>\n",
       "  <tbody>\n",
       "    <tr>\n",
       "      <th>0</th>\n",
       "      <td>1</td>\n",
       "      <td>É Assim que Acaba</td>\n",
       "      <td>Colleen Hoover</td>\n",
       "      <td>37.42</td>\n",
       "      <td>4.8</td>\n",
       "      <td>15273</td>\n",
       "    </tr>\n",
       "    <tr>\n",
       "      <th>15</th>\n",
       "      <td>16</td>\n",
       "      <td>Até o verão terminar</td>\n",
       "      <td>Colleen Hoover</td>\n",
       "      <td>28.70</td>\n",
       "      <td>4.7</td>\n",
       "      <td>2789</td>\n",
       "    </tr>\n",
       "    <tr>\n",
       "      <th>19</th>\n",
       "      <td>20</td>\n",
       "      <td>Verity</td>\n",
       "      <td>Colleen Hoover</td>\n",
       "      <td>27.90</td>\n",
       "      <td>4.7</td>\n",
       "      <td>7550</td>\n",
       "    </tr>\n",
       "    <tr>\n",
       "      <th>23</th>\n",
       "      <td>24</td>\n",
       "      <td>Todas as suas (im)perfeições</td>\n",
       "      <td>Colleen Hoover</td>\n",
       "      <td>37.42</td>\n",
       "      <td>4.8</td>\n",
       "      <td>8022</td>\n",
       "    </tr>\n",
       "    <tr>\n",
       "      <th>31</th>\n",
       "      <td>32</td>\n",
       "      <td>Novembro, 9</td>\n",
       "      <td>Colleen Hoover</td>\n",
       "      <td>27.90</td>\n",
       "      <td>4.7</td>\n",
       "      <td>4597</td>\n",
       "    </tr>\n",
       "    <tr>\n",
       "      <th>39</th>\n",
       "      <td>40</td>\n",
       "      <td>O lado feio do amor</td>\n",
       "      <td>Colleen Hoover</td>\n",
       "      <td>31.20</td>\n",
       "      <td>4.7</td>\n",
       "      <td>10003</td>\n",
       "    </tr>\n",
       "    <tr>\n",
       "      <th>48</th>\n",
       "      <td>49</td>\n",
       "      <td>As mil partes do meu coração</td>\n",
       "      <td>Colleen Hoover</td>\n",
       "      <td>28.90</td>\n",
       "      <td>4.7</td>\n",
       "      <td>2979</td>\n",
       "    </tr>\n",
       "  </tbody>\n",
       "</table>\n",
       "</div>"
      ],
      "text/plain": [
       "   Posição                         Livro           Autor  Preço  Avaliação  \\\n",
       "0        1             É Assim que Acaba  Colleen Hoover  37.42        4.8   \n",
       "15      16          Até o verão terminar  Colleen Hoover  28.70        4.7   \n",
       "19      20                        Verity  Colleen Hoover  27.90        4.7   \n",
       "23      24  Todas as suas (im)perfeições  Colleen Hoover  37.42        4.8   \n",
       "31      32                   Novembro, 9  Colleen Hoover  27.90        4.7   \n",
       "39      40           O lado feio do amor  Colleen Hoover  31.20        4.7   \n",
       "48      49  As mil partes do meu coração  Colleen Hoover  28.90        4.7   \n",
       "\n",
       "    Número Reviews  \n",
       "0            15273  \n",
       "15            2789  \n",
       "19            7550  \n",
       "23            8022  \n",
       "31            4597  \n",
       "39           10003  \n",
       "48            2979  "
      ]
     },
     "execution_count": 16,
     "metadata": {},
     "output_type": "execute_result"
    }
   ],
   "source": [
    "df[df[\"Autor\"] == \"Colleen Hoover\"]"
   ]
  },
  {
   "cell_type": "markdown",
   "id": "fefad6d2-0830-4c4b-b2e2-eaf411fe2557",
   "metadata": {},
   "source": [
    "Avaliando pelo os titulos dos livros, a Collen Hoover parece ser uma atriz de romances. Assim, faz sentido esse alto número de vendas tendo em vista que essa análise foi feita próximo ao dia dos namorados e geralmente a Amazon faz promoções de livros em datas temáticas."
   ]
  },
  {
   "cell_type": "code",
   "execution_count": 22,
   "id": "a5b1815d-2b26-4c5d-a37f-365bc0f3a432",
   "metadata": {},
   "outputs": [
    {
     "data": {
      "text/html": [
       "<div>\n",
       "<style scoped>\n",
       "    .dataframe tbody tr th:only-of-type {\n",
       "        vertical-align: middle;\n",
       "    }\n",
       "\n",
       "    .dataframe tbody tr th {\n",
       "        vertical-align: top;\n",
       "    }\n",
       "\n",
       "    .dataframe thead th {\n",
       "        text-align: right;\n",
       "    }\n",
       "</style>\n",
       "<table border=\"1\" class=\"dataframe\">\n",
       "  <thead>\n",
       "    <tr style=\"text-align: right;\">\n",
       "      <th></th>\n",
       "      <th>Posição</th>\n",
       "      <th>Livro</th>\n",
       "      <th>Autor</th>\n",
       "      <th>Preço</th>\n",
       "      <th>Avaliação</th>\n",
       "      <th>Número Reviews</th>\n",
       "    </tr>\n",
       "  </thead>\n",
       "  <tbody>\n",
       "    <tr>\n",
       "      <th>25</th>\n",
       "      <td>26</td>\n",
       "      <td>As obras revolucionárias de George Orwell - Bo...</td>\n",
       "      <td>George Orwell</td>\n",
       "      <td>22.9</td>\n",
       "      <td>4.8</td>\n",
       "      <td>6553</td>\n",
       "    </tr>\n",
       "    <tr>\n",
       "      <th>57</th>\n",
       "      <td>58</td>\n",
       "      <td>A revolução dos bichos: Um conto de fadas</td>\n",
       "      <td>George Orwell</td>\n",
       "      <td>14.1</td>\n",
       "      <td>4.9</td>\n",
       "      <td>28075</td>\n",
       "    </tr>\n",
       "  </tbody>\n",
       "</table>\n",
       "</div>"
      ],
      "text/plain": [
       "   Posição                                              Livro          Autor  \\\n",
       "25      26  As obras revolucionárias de George Orwell - Bo...  George Orwell   \n",
       "57      58          A revolução dos bichos: Um conto de fadas  George Orwell   \n",
       "\n",
       "    Preço  Avaliação  Número Reviews  \n",
       "25   22.9        4.8            6553  \n",
       "57   14.1        4.9           28075  "
      ]
     },
     "execution_count": 22,
     "metadata": {},
     "output_type": "execute_result"
    }
   ],
   "source": [
    "df[df[\"Autor\"] == \"George Orwell\"]"
   ]
  },
  {
   "cell_type": "markdown",
   "id": "4649e3d9-d70c-4dc2-aaaa-126aed838b86",
   "metadata": {},
   "source": [
    "George Orwell possui dois livros dentre os mais vendidos, sendo um deles um box contendo 3 livros (A revolução dos bixos, 1984 e Dentro da baleia e outros ensaios)"
   ]
  },
  {
   "cell_type": "code",
   "execution_count": 23,
   "id": "849e1a1d-28ef-44b7-9ae0-160495b9cc18",
   "metadata": {},
   "outputs": [
    {
     "data": {
      "text/html": [
       "<div>\n",
       "<style scoped>\n",
       "    .dataframe tbody tr th:only-of-type {\n",
       "        vertical-align: middle;\n",
       "    }\n",
       "\n",
       "    .dataframe tbody tr th {\n",
       "        vertical-align: top;\n",
       "    }\n",
       "\n",
       "    .dataframe thead th {\n",
       "        text-align: right;\n",
       "    }\n",
       "</style>\n",
       "<table border=\"1\" class=\"dataframe\">\n",
       "  <thead>\n",
       "    <tr style=\"text-align: right;\">\n",
       "      <th></th>\n",
       "      <th>Posição</th>\n",
       "      <th>Livro</th>\n",
       "      <th>Autor</th>\n",
       "      <th>Preço</th>\n",
       "      <th>Avaliação</th>\n",
       "      <th>Número Reviews</th>\n",
       "    </tr>\n",
       "  </thead>\n",
       "  <tbody>\n",
       "    <tr>\n",
       "      <th>62</th>\n",
       "      <td>63</td>\n",
       "      <td>Box Percy Jackson e os Olimpianos - Capa Nova:...</td>\n",
       "      <td>Rick Riordan</td>\n",
       "      <td>161.90</td>\n",
       "      <td>4.8</td>\n",
       "      <td>9821</td>\n",
       "    </tr>\n",
       "    <tr>\n",
       "      <th>83</th>\n",
       "      <td>84</td>\n",
       "      <td>Box Trilogia O Senhor dos Anéis</td>\n",
       "      <td>J.R.R. Tolkien</td>\n",
       "      <td>105.90</td>\n",
       "      <td>4.8</td>\n",
       "      <td>12912</td>\n",
       "    </tr>\n",
       "    <tr>\n",
       "      <th>98</th>\n",
       "      <td>99</td>\n",
       "      <td>Box O povo do ar - acompanha brindes</td>\n",
       "      <td>Holly Black</td>\n",
       "      <td>105.70</td>\n",
       "      <td>4.8</td>\n",
       "      <td>3616</td>\n",
       "    </tr>\n",
       "    <tr>\n",
       "      <th>51</th>\n",
       "      <td>52</td>\n",
       "      <td>Cabeça Fria, Coração Quente</td>\n",
       "      <td>Vitor Castanheira Abel Ferreira, Carlos Martin...</td>\n",
       "      <td>70.99</td>\n",
       "      <td>4.9</td>\n",
       "      <td>1439</td>\n",
       "    </tr>\n",
       "    <tr>\n",
       "      <th>4</th>\n",
       "      <td>5</td>\n",
       "      <td>PING PONG VOL. 1</td>\n",
       "      <td>TAYO MATSUMOTO</td>\n",
       "      <td>67.40</td>\n",
       "      <td>4.8</td>\n",
       "      <td>90</td>\n",
       "    </tr>\n",
       "    <tr>\n",
       "      <th>44</th>\n",
       "      <td>45</td>\n",
       "      <td>AS 48 LEIS DO PODER (CAPA DURA)</td>\n",
       "      <td>ROBERT GREENE</td>\n",
       "      <td>62.90</td>\n",
       "      <td>4.8</td>\n",
       "      <td>2148</td>\n",
       "    </tr>\n",
       "    <tr>\n",
       "      <th>72</th>\n",
       "      <td>73</td>\n",
       "      <td>Grama (Reimpressão)</td>\n",
       "      <td>Keum Suk Gendry-Kim</td>\n",
       "      <td>59.40</td>\n",
       "      <td>4.9</td>\n",
       "      <td>1670</td>\n",
       "    </tr>\n",
       "    <tr>\n",
       "      <th>81</th>\n",
       "      <td>82</td>\n",
       "      <td>Laurentino Gomes</td>\n",
       "      <td>Laurentino Gomes</td>\n",
       "      <td>59.40</td>\n",
       "      <td>0.0</td>\n",
       "      <td>0</td>\n",
       "    </tr>\n",
       "    <tr>\n",
       "      <th>90</th>\n",
       "      <td>91</td>\n",
       "      <td>Rápido e devagar: Duas formas de pensar</td>\n",
       "      <td>Daniel Kahneman</td>\n",
       "      <td>55.94</td>\n",
       "      <td>4.7</td>\n",
       "      <td>8020</td>\n",
       "    </tr>\n",
       "    <tr>\n",
       "      <th>76</th>\n",
       "      <td>77</td>\n",
       "      <td>Comunicação não violenta - Nova edição: Técnic...</td>\n",
       "      <td>Marshall B. Rosenberg</td>\n",
       "      <td>49.90</td>\n",
       "      <td>4.8</td>\n",
       "      <td>838</td>\n",
       "    </tr>\n",
       "  </tbody>\n",
       "</table>\n",
       "</div>"
      ],
      "text/plain": [
       "   Posição                                              Livro  \\\n",
       "62      63  Box Percy Jackson e os Olimpianos - Capa Nova:...   \n",
       "83      84                    Box Trilogia O Senhor dos Anéis   \n",
       "98      99               Box O povo do ar - acompanha brindes   \n",
       "51      52                        Cabeça Fria, Coração Quente   \n",
       "4        5                                   PING PONG VOL. 1   \n",
       "44      45                    AS 48 LEIS DO PODER (CAPA DURA)   \n",
       "72      73                                Grama (Reimpressão)   \n",
       "81      82                                   Laurentino Gomes   \n",
       "90      91            Rápido e devagar: Duas formas de pensar   \n",
       "76      77  Comunicação não violenta - Nova edição: Técnic...   \n",
       "\n",
       "                                                Autor   Preço  Avaliação  \\\n",
       "62                                       Rick Riordan  161.90        4.8   \n",
       "83                                     J.R.R. Tolkien  105.90        4.8   \n",
       "98                                        Holly Black  105.70        4.8   \n",
       "51  Vitor Castanheira Abel Ferreira, Carlos Martin...   70.99        4.9   \n",
       "4                                      TAYO MATSUMOTO   67.40        4.8   \n",
       "44                                      ROBERT GREENE   62.90        4.8   \n",
       "72                                Keum Suk Gendry-Kim   59.40        4.9   \n",
       "81                                   Laurentino Gomes   59.40        0.0   \n",
       "90                                    Daniel Kahneman   55.94        4.7   \n",
       "76                              Marshall B. Rosenberg   49.90        4.8   \n",
       "\n",
       "    Número Reviews  \n",
       "62            9821  \n",
       "83           12912  \n",
       "98            3616  \n",
       "51            1439  \n",
       "4               90  \n",
       "44            2148  \n",
       "72            1670  \n",
       "81               0  \n",
       "90            8020  \n",
       "76             838  "
      ]
     },
     "execution_count": 23,
     "metadata": {},
     "output_type": "execute_result"
    }
   ],
   "source": [
    "mais_caros = df[\"Preço\"].sort_values(ascending = False)[0:10].index\n",
    "df.loc[mais_caros,:]"
   ]
  },
  {
   "cell_type": "markdown",
   "id": "b4ad0f98-954f-44f0-abb4-72a50547384c",
   "metadata": {},
   "source": [
    "Dentre os livros mais caros, há uma predominancia de boxes, que geralmente são vendidos por um valor mais alto sendo atrativos para colecionadores devido a presença de brindes, encartes ou ilustrações extras. Também temos a bibliografia do português Abel Ferreira, atualmente técnico do Palmeiras por 80 reais, um pouco salgado para uma bibliografia na minha opinião."
   ]
  },
  {
   "cell_type": "code",
   "execution_count": 24,
   "id": "28b693bf-e97d-4fc1-91cf-b7f8745014e9",
   "metadata": {},
   "outputs": [
    {
     "data": {
      "text/html": [
       "<div>\n",
       "<style scoped>\n",
       "    .dataframe tbody tr th:only-of-type {\n",
       "        vertical-align: middle;\n",
       "    }\n",
       "\n",
       "    .dataframe tbody tr th {\n",
       "        vertical-align: top;\n",
       "    }\n",
       "\n",
       "    .dataframe thead th {\n",
       "        text-align: right;\n",
       "    }\n",
       "</style>\n",
       "<table border=\"1\" class=\"dataframe\">\n",
       "  <thead>\n",
       "    <tr style=\"text-align: right;\">\n",
       "      <th></th>\n",
       "      <th>Posição</th>\n",
       "      <th>Livro</th>\n",
       "      <th>Autor</th>\n",
       "      <th>Preço</th>\n",
       "      <th>Avaliação</th>\n",
       "      <th>Número Reviews</th>\n",
       "    </tr>\n",
       "  </thead>\n",
       "  <tbody>\n",
       "    <tr>\n",
       "      <th>57</th>\n",
       "      <td>58</td>\n",
       "      <td>A revolução dos bichos: Um conto de fadas</td>\n",
       "      <td>George Orwell</td>\n",
       "      <td>14.10</td>\n",
       "      <td>4.9</td>\n",
       "      <td>28075</td>\n",
       "    </tr>\n",
       "    <tr>\n",
       "      <th>2</th>\n",
       "      <td>3</td>\n",
       "      <td>A garota do lago</td>\n",
       "      <td>Charlie Donlea</td>\n",
       "      <td>8.50</td>\n",
       "      <td>4.7</td>\n",
       "      <td>25492</td>\n",
       "    </tr>\n",
       "    <tr>\n",
       "      <th>20</th>\n",
       "      <td>21</td>\n",
       "      <td>Torto arado</td>\n",
       "      <td>Itamar Vieira Junior</td>\n",
       "      <td>36.51</td>\n",
       "      <td>4.8</td>\n",
       "      <td>22718</td>\n",
       "    </tr>\n",
       "    <tr>\n",
       "      <th>10</th>\n",
       "      <td>11</td>\n",
       "      <td>Mais esperto que o Diabo: O mistério revelado ...</td>\n",
       "      <td>Napoleon Hill</td>\n",
       "      <td>23.78</td>\n",
       "      <td>4.7</td>\n",
       "      <td>22451</td>\n",
       "    </tr>\n",
       "    <tr>\n",
       "      <th>12</th>\n",
       "      <td>13</td>\n",
       "      <td>Mulheres que correm com os lobos</td>\n",
       "      <td>Clarissa Pinkola Estés</td>\n",
       "      <td>34.90</td>\n",
       "      <td>4.8</td>\n",
       "      <td>21922</td>\n",
       "    </tr>\n",
       "    <tr>\n",
       "      <th>21</th>\n",
       "      <td>22</td>\n",
       "      <td>Do Mil ao Milhão. Sem Cortar o Cafezinho.</td>\n",
       "      <td>Thiago Nigro</td>\n",
       "      <td>17.90</td>\n",
       "      <td>4.7</td>\n",
       "      <td>21770</td>\n",
       "    </tr>\n",
       "    <tr>\n",
       "      <th>17</th>\n",
       "      <td>18</td>\n",
       "      <td>Os sete maridos de Evelyn Hugo</td>\n",
       "      <td>Taylor Jenkins Reid</td>\n",
       "      <td>34.84</td>\n",
       "      <td>4.8</td>\n",
       "      <td>20470</td>\n",
       "    </tr>\n",
       "    <tr>\n",
       "      <th>71</th>\n",
       "      <td>72</td>\n",
       "      <td>O morro dos ventos uivantes</td>\n",
       "      <td>Emily Brontë</td>\n",
       "      <td>13.60</td>\n",
       "      <td>4.6</td>\n",
       "      <td>19293</td>\n",
       "    </tr>\n",
       "    <tr>\n",
       "      <th>13</th>\n",
       "      <td>14</td>\n",
       "      <td>Os segredos da mente milionária: Aprenda a enr...</td>\n",
       "      <td>T. Harv Eker</td>\n",
       "      <td>29.90</td>\n",
       "      <td>4.8</td>\n",
       "      <td>18254</td>\n",
       "    </tr>\n",
       "    <tr>\n",
       "      <th>32</th>\n",
       "      <td>33</td>\n",
       "      <td>O poder do hábito</td>\n",
       "      <td>Charles Duhigg</td>\n",
       "      <td>47.90</td>\n",
       "      <td>4.8</td>\n",
       "      <td>18205</td>\n",
       "    </tr>\n",
       "  </tbody>\n",
       "</table>\n",
       "</div>"
      ],
      "text/plain": [
       "   Posição                                              Livro  \\\n",
       "57      58          A revolução dos bichos: Um conto de fadas   \n",
       "2        3                                   A garota do lago   \n",
       "20      21                                        Torto arado   \n",
       "10      11  Mais esperto que o Diabo: O mistério revelado ...   \n",
       "12      13                   Mulheres que correm com os lobos   \n",
       "21      22          Do Mil ao Milhão. Sem Cortar o Cafezinho.   \n",
       "17      18                     Os sete maridos de Evelyn Hugo   \n",
       "71      72                        O morro dos ventos uivantes   \n",
       "13      14  Os segredos da mente milionária: Aprenda a enr...   \n",
       "32      33                                  O poder do hábito   \n",
       "\n",
       "                     Autor  Preço  Avaliação  Número Reviews  \n",
       "57           George Orwell  14.10        4.9           28075  \n",
       "2           Charlie Donlea   8.50        4.7           25492  \n",
       "20    Itamar Vieira Junior  36.51        4.8           22718  \n",
       "10           Napoleon Hill  23.78        4.7           22451  \n",
       "12  Clarissa Pinkola Estés  34.90        4.8           21922  \n",
       "21            Thiago Nigro  17.90        4.7           21770  \n",
       "17     Taylor Jenkins Reid  34.84        4.8           20470  \n",
       "71            Emily Brontë  13.60        4.6           19293  \n",
       "13            T. Harv Eker  29.90        4.8           18254  \n",
       "32          Charles Duhigg  47.90        4.8           18205  "
      ]
     },
     "execution_count": 24,
     "metadata": {},
     "output_type": "execute_result"
    }
   ],
   "source": [
    "mais_avaliados = df[\"Número Reviews\"].sort_values(ascending = False)[0:10].index\n",
    "df.loc[mais_avaliados,:]"
   ]
  },
  {
   "cell_type": "markdown",
   "id": "211466fa-0cf4-4d04-adc2-ef3faf4ce42f",
   "metadata": {},
   "source": [
    "Também podemos visualizar os livros mais avaliados pelos compradores."
   ]
  },
  {
   "cell_type": "markdown",
   "id": "f77cb5b7-ca36-403c-9e85-8f1de91d13d8",
   "metadata": {},
   "source": [
    "E por fim salvar o arquivo em formato csv"
   ]
  },
  {
   "cell_type": "code",
   "execution_count": 25,
   "id": "9a13157a-d4d6-4e22-a83f-9750c53d2a62",
   "metadata": {},
   "outputs": [],
   "source": [
    "df.to_csv(\"top100_books_amazon.csv\", index=False)"
   ]
  }
 ],
 "metadata": {
  "kernelspec": {
   "display_name": "Python 3 (ipykernel)",
   "language": "python",
   "name": "python3"
  },
  "language_info": {
   "codemirror_mode": {
    "name": "ipython",
    "version": 3
   },
   "file_extension": ".py",
   "mimetype": "text/x-python",
   "name": "python",
   "nbconvert_exporter": "python",
   "pygments_lexer": "ipython3",
   "version": "3.9.7"
  }
 },
 "nbformat": 4,
 "nbformat_minor": 5
}
