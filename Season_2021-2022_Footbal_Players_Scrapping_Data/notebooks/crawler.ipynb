{
 "cells": [
  {
   "cell_type": "markdown",
   "id": "3dcefcac-5639-409a-82ff-7ed634e85ed4",
   "metadata": {},
   "source": [
    "element = driver.find_element_by_link_text(\"Interview Preparation\")\n",
    "\n",
    "encontrar elementos por texto\n",
    "\n",
    "XPATH -> //tag[@arg = \"value\"]/TagFilhaSubjacente\n",
    "\n",
    "'//tag[contains(@attr, \"nome_aproximado\")]'\n",
    "\n"
   ]
  },
  {
   "cell_type": "markdown",
   "id": "cc61a0e4-f56f-44f4-9145-5134c33c220e",
   "metadata": {},
   "source": [
    "https://fbref.com/pt/comps/Big5/Maiores-5-Ligas-Europeias-Estatisticas"
   ]
  },
  {
   "cell_type": "markdown",
   "id": "ab65280e-c67d-4d35-8f8d-8c049762e223",
   "metadata": {},
   "source": [
    "https://stackoverflow.com/questions/47316810/unable-to-locate-elements-on-webpage-with-headless-chrome"
   ]
  },
  {
   "cell_type": "code",
   "execution_count": 5,
   "id": "953ad5d3-766a-466b-b2f0-fceb9d51d7ee",
   "metadata": {},
   "outputs": [],
   "source": [
    "from selenium import webdriver\n",
    "from selenium.webdriver.common.by import By\n",
    "from selenium.webdriver.chrome.service import Service\n",
    "import time\n",
    "from selenium.webdriver.chrome.options import Options\n",
    "\n",
    "from selenium.webdriver.support.wait import WebDriverWait\n",
    "from selenium.webdriver.support import expected_conditions as EC\n",
    "from selenium.webdriver.common.action_chains import ActionChains\n",
    "from bs4 import BeautifulSoup\n",
    "#import pickle\n",
    "import json"
   ]
  },
  {
   "cell_type": "code",
   "execution_count": 6,
   "id": "3fcd43b5-f59b-4b40-b633-007a366a9ae3",
   "metadata": {},
   "outputs": [],
   "source": [
    "PATH = \"./driver/chromedriver\"\n",
    "service = Service(executable_path=PATH) # selenium 4\n",
    "options = Options()\n",
    "options.headless = False\n",
    "#options.add_argument(\"window-size=1920x1980\") executar com headless = True e argumento descomentado\n",
    "#faz com que para algumas equipes o URL recuperado seja o do AD do google\n",
    "options.add_argument('--ignore-certificate-errors')\n",
    "options.add_argument('--allow-running-insecure-content')\n",
    "user_agent = 'Mozilla/5.0 (X11; Linux x86_64) AppleWebKit/537.36 (KHTML, like Gecko) Chrome/60.0.3112.50 Safari/537.36'\n",
    "options.add_argument(f'user-agent={user_agent}')"
   ]
  },
  {
   "cell_type": "code",
   "execution_count": 7,
   "id": "65dfb74f-1761-404c-9279-85fe9e56da14",
   "metadata": {},
   "outputs": [],
   "source": [
    "url = \"https://fbref.com/pt/comps/Big5/Maiores-5-Ligas-Europeias-Estatisticas\"\n",
    "table_id = \"big5_table\""
   ]
  },
  {
   "cell_type": "code",
   "execution_count": 12,
   "id": "867b1d43-6884-410a-a2a0-ef3f3c1c4bd6",
   "metadata": {},
   "outputs": [],
   "source": [
    "def crawler(url,table_id):\n",
    "    \n",
    "    start_time = time.time()\n",
    "    \n",
    "    equipes = []\n",
    "    urls = []\n",
    "\n",
    "    driver = webdriver.Chrome(service=service, options=options)\n",
    "\n",
    "    driver.get(url)\n",
    "\n",
    "    driver.maximize_window()\n",
    "    \n",
    "    table = driver.find_element(By.ID, table_id)\n",
    "    \n",
    "    #. se refere ao caminho de table\n",
    "    teams = table.find_elements(By.XPATH, './/td[@data-stat=\"squad\"]/a') \n",
    "    #fora do loop para poder ter len(temas)\n",
    "\n",
    "    for team in teams:\n",
    "        equipes.append(team.text)\n",
    "\n",
    "    for i in range(len(teams)): \n",
    "\n",
    "        table = driver.find_element(By.ID, \"big5_table\")\n",
    "\n",
    "        teams = table.find_elements(By.XPATH, './/td[@data-stat=\"squad\"]/a')\n",
    "\n",
    "        actions = ActionChains(driver)\n",
    "\n",
    "        #ignorar erro boundary gerado por move elemente()\n",
    "        try:\n",
    "            actions.move_to_element(teams[i+1]).perform()\n",
    "        except:\n",
    "            pass\n",
    "\n",
    "        time.sleep(4) #espera para nao mover e clicar ao mesmo tempo\n",
    "\n",
    "        teams[i].click()\n",
    "\n",
    "        # clicar no AD do google -> necessita mudar para o frame do botão de fechar\n",
    "        try:\n",
    "            wait=WebDriverWait(driver, 4)\n",
    "            wait.until(EC.frame_to_be_available_and_switch_to_it((By.ID, 'aswift_2')))\n",
    "            ad_button = driver.find_element(By.XPATH, '//div[contains(@id, \"dismiss-button\")]')\n",
    "            ad_button.click()\n",
    "            driver.switch_to.parent_frame()\n",
    "        except:\n",
    "            pass\n",
    "\n",
    "        #time.sleep(3)\n",
    "        page = driver.current_url\n",
    "        print(f\"{equipes[i]} ----------- {page}\")\n",
    "\n",
    "        urls.append(page)\n",
    "\n",
    "        #retornar a tabela com links de equipes para clicar na proxima \n",
    "        driver.back()\n",
    "\n",
    "    driver.quit()\n",
    "\n",
    "    urls_dic = {}\n",
    "    for equipe, url in zip(equipes, urls):\n",
    "        urls_dic[equipe] = url\n",
    "    \n",
    "    print(f\"Tempo de execução: {round(time.time() - start_time, 2)} segundos\")\n",
    "    \n",
    "    return urls_dic\n"
   ]
  },
  {
   "cell_type": "code",
   "execution_count": 4,
   "id": "a33fdcb5-c342-45db-8d5b-295d1218b90a",
   "metadata": {
    "tags": []
   },
   "outputs": [
    {
     "name": "stdout",
     "output_type": "stream",
     "text": [
      "Manchester City ----------- https://fbref.com/pt/equipes/b8fd03ef/Manchester-City-Estatisticas\n",
      "Liverpool ----------- https://fbref.com/pt/equipes/822bd0ba/Liverpool-Estatisticas\n",
      "Bayern Munich ----------- https://fbref.com/pt/equipes/054efa67/Bayern-Munich-Estatisticas\n",
      "Paris S-G ----------- https://fbref.com/pt/equipes/e2d8892c/Paris-Saint-Germain-Estatisticas\n",
      "Real Madrid ----------- https://fbref.com/pt/equipes/53a2f082/Real-Madrid-Estatisticas\n",
      "Milan ----------- https://fbref.com/pt/equipes/dc56fe14/Milan-Estatisticas\n",
      "Inter ----------- https://fbref.com/pt/equipes/d609edc0/Internazionale-Estatisticas\n",
      "Napoli ----------- https://fbref.com/pt/equipes/d48ad4ff/Napoli-Estatisticas\n",
      "Dortmund ----------- https://fbref.com/pt/equipes/add600ae/Dortmund-Estatisticas\n",
      "Chelsea ----------- https://fbref.com/pt/equipes/cff3d9bb/Chelsea-Estatisticas\n",
      "Barcelona ----------- https://fbref.com/pt/equipes/206d90db/Barcelona-Estatisticas\n",
      "Leverkusen ----------- https://fbref.com/pt/equipes/c7a9f859/Bayer-Leverkusen-Estatisticas\n",
      "Tottenham ----------- https://fbref.com/pt/equipes/361ca564/Tottenham-Hotspur-Estatisticas\n",
      "Marseille ----------- https://fbref.com/pt/equipes/5725cc7b/Marseille-Estatisticas\n",
      "Atlético Madrid ----------- https://fbref.com/pt/equipes/db3b9613/Atletico-Madrid-Estatisticas\n",
      "Sevilla ----------- https://fbref.com/pt/equipes/ad2be733/Sevilla-Estatisticas\n",
      "Juventus ----------- https://fbref.com/pt/equipes/e0652b02/Juventus-Estatisticas\n",
      "Monaco ----------- https://fbref.com/pt/equipes/fd6114db/Monaco-Estatisticas\n",
      "Arsenal ----------- https://fbref.com/pt/equipes/18bb7c10/Arsenal-Estatisticas\n",
      "Rennes ----------- https://fbref.com/pt/equipes/b3072e00/Rennes-Estatisticas\n",
      "Nice ----------- https://fbref.com/pt/equipes/132ebc33/Nice-Estatisticas\n",
      "RB Leipzig ----------- https://fbref.com/pt/equipes/acbb6a5b/RB-Leipzig-Estatisticas\n",
      "Betis ----------- https://fbref.com/pt/equipes/fc536746/Real-Betis-Estatisticas\n",
      "Lazio ----------- https://fbref.com/pt/equipes/7213da33/Lazio-Estatisticas\n",
      "Union Berlin ----------- https://fbref.com/pt/equipes/7a41008f/Union-Berlin-Estatisticas\n",
      "Strasbourg ----------- https://fbref.com/pt/equipes/c0d3eab4/Strasbourg-Estatisticas\n",
      "Roma ----------- https://fbref.com/pt/equipes/cf74a709/Roma-Estatisticas\n",
      "Lens ----------- https://fbref.com/pt/equipes/fd4e0f7d/Lens-Estatisticas\n",
      "Fiorentina ----------- https://fbref.com/pt/equipes/421387cf/Fiorentina-Estatisticas\n",
      "Real Sociedad ----------- https://fbref.com/pt/equipes/e31d1cd9/Real-Sociedad-Estatisticas\n",
      "Freiburg ----------- https://fbref.com/pt/equipes/a486e511/Freiburg-Estatisticas\n",
      "Lyon ----------- https://fbref.com/pt/equipes/d53c0b06/Lyon-Estatisticas\n",
      "Villarreal ----------- https://fbref.com/pt/equipes/2a8183b3/Villarreal-Estatisticas\n",
      "Atalanta ----------- https://fbref.com/pt/equipes/922493f3/Atalanta-Estatisticas\n",
      "Köln ----------- https://fbref.com/pt/equipes/bc357bf7/Koln-Estatisticas\n",
      "Manchester Utd ----------- https://fbref.com/pt/equipes/19538871/Manchester-United-Estatisticas\n",
      "West Ham ----------- https://fbref.com/pt/equipes/7c21e445/West-Ham-United-Estatisticas\n",
      "Nantes ----------- https://fbref.com/pt/equipes/d7a486cd/Nantes-Estatisticas\n",
      "Athletic Club ----------- https://fbref.com/pt/equipes/2b390eca/Athletic-Club-Estatisticas\n",
      "Lille ----------- https://fbref.com/pt/equipes/cb188c0c/Lille-Estatisticas\n",
      "Hellas Verona ----------- https://fbref.com/pt/equipes/0e72edf2/Hellas-Verona-Estatisticas\n",
      "Leicester City ----------- https://fbref.com/pt/equipes/a2d435b3/Leicester-City-Estatisticas\n",
      "Mainz 05 ----------- https://fbref.com/pt/equipes/a224b06a/Mainz-05-Estatisticas\n",
      "Hoffenheim ----------- https://fbref.com/pt/equipes/033ea6b8/Hoffenheim-Estatisticas\n",
      "Brighton ----------- https://fbref.com/pt/equipes/d07537b9/Brighton-and-Hove-Albion-Estatisticas\n",
      "Wolves ----------- https://fbref.com/pt/equipes/8cec06e1/Wolverhampton-Wanderers-Estatisticas\n",
      "Torino ----------- https://fbref.com/pt/equipes/105360fe/Torino-Estatisticas\n",
      "Sassuolo ----------- https://fbref.com/pt/equipes/e2befd26/Sassuolo-Estatisticas\n",
      "M'Gladbach ----------- https://fbref.com/pt/equipes/32f3ee20/Monchengladbach-Estatisticas\n",
      "Newcastle Utd ----------- https://fbref.com/pt/equipes/b2b47a98/Newcastle-United-Estatisticas\n",
      "Crystal Palace ----------- https://fbref.com/pt/equipes/47c64c55/Crystal-Palace-Estatisticas\n",
      "Valencia ----------- https://fbref.com/pt/equipes/dcc91a7b/Valencia-Estatisticas\n",
      "Brest ----------- https://fbref.com/pt/equipes/fb08dbb3/Brest-Estatisticas\n",
      "Udinese ----------- https://fbref.com/pt/equipes/04eea015/Udinese-Estatisticas\n",
      "Eint Frankfurt ----------- https://fbref.com/pt/equipes/f0ac8ee6/Eintracht-Frankfurt-Estatisticas\n",
      "Wolfsburg ----------- https://fbref.com/pt/equipes/4eaa11d7/Wolfsburg-Estatisticas\n",
      "Bochum ----------- https://fbref.com/pt/equipes/b42c6323/Bochum-Estatisticas\n",
      "Osasuna ----------- https://fbref.com/pt/equipes/03c57e2b/Osasuna-Estatisticas\n",
      "Celta Vigo ----------- https://fbref.com/pt/equipes/f25da7fb/Celta-Vigo-Estatisticas\n",
      "Reims ----------- https://fbref.com/pt/equipes/7fdd64e0/Reims-Estatisticas\n",
      "Brentford ----------- https://fbref.com/pt/equipes/cd051869/Brentford-Estatisticas\n",
      "Bologna ----------- https://fbref.com/pt/equipes/1d8099f8/Bologna-Estatisticas\n",
      "Aston Villa ----------- https://fbref.com/pt/equipes/8602292d/Aston-Villa-Estatisticas\n",
      "Montpellier ----------- https://fbref.com/pt/equipes/281b0e73/Montpellier-Estatisticas\n",
      "Augsburg ----------- https://fbref.com/pt/equipes/0cdc4311/Augsburg-Estatisticas\n",
      "Rayo Vallecano ----------- https://fbref.com/pt/equipes/98e8af82/Rayo-Vallecano-Estatisticas\n",
      "Elche ----------- https://fbref.com/pt/equipes/6c8b07df/Elche-Estatisticas\n",
      "Espanyol ----------- https://fbref.com/pt/equipes/a8661628/Espanyol-Estatisticas\n",
      "Angers ----------- https://fbref.com/pt/equipes/69236f98/Angers-Estatisticas\n",
      "Empoli ----------- https://fbref.com/pt/equipes/a3d88bd8/Empoli-Estatisticas\n",
      "Southampton ----------- https://fbref.com/pt/equipes/33c895d4/Southampton-Estatisticas\n",
      "Getafe ----------- https://fbref.com/pt/equipes/7848bd64/Getafe-Estatisticas\n",
      "Cádiz ----------- https://fbref.com/pt/equipes/ee7c297c/Cadiz-Estatisticas\n",
      "Everton ----------- https://fbref.com/pt/equipes/d3fd31cc/Everton-Estatisticas\n",
      "Mallorca ----------- https://fbref.com/pt/equipes/2aa12281/Mallorca-Estatisticas\n",
      "Troyes ----------- https://fbref.com/pt/equipes/54195385/Troyes-Estatisticas\n",
      "Granada ----------- https://fbref.com/pt/equipes/a0435291/Granada-Estatisticas\n",
      "Leeds United ----------- https://fbref.com/pt/equipes/5bfb9659/Leeds-United-Estatisticas\n",
      "Stuttgart ----------- https://fbref.com/pt/equipes/598bc722/Stuttgart-Estatisticas\n",
      "Hertha BSC ----------- https://fbref.com/pt/equipes/2818f8bc/Hertha-BSC-Estatisticas\n",
      "Sampdoria ----------- https://fbref.com/pt/equipes/8ff9e3b3/Sampdoria-Estatisticas\n",
      "Lorient ----------- https://fbref.com/pt/equipes/d2c87802/Lorient-Estatisticas\n",
      "Spezia ----------- https://fbref.com/pt/equipes/68449f6d/Spezia-Estatisticas\n",
      "Clermont Foot ----------- https://fbref.com/pt/equipes/d9676424/Clermont-Foot-Estatisticas\n",
      "Burnley ----------- https://fbref.com/pt/equipes/943e8050/Burnley-Estatisticas\n",
      "Levante ----------- https://fbref.com/pt/equipes/9800b6a1/Levante-Estatisticas\n",
      "Saint-Étienne ----------- https://fbref.com/pt/equipes/d298ef2c/Saint-Etienne-Estatisticas\n",
      "Arminia ----------- https://fbref.com/pt/equipes/247c4b67/Arminia-Estatisticas\n",
      "Alavés ----------- https://fbref.com/pt/equipes/8d6fd021/Alaves-Estatisticas\n",
      "Metz ----------- https://fbref.com/pt/equipes/f83960ae/Metz-Estatisticas\n",
      "Bordeaux ----------- https://fbref.com/pt/equipes/123f3efe/Bordeaux-Estatisticas\n",
      "Salernitana ----------- https://fbref.com/pt/equipes/c5577084/Salernitana-Estatisticas\n",
      "Cagliari ----------- https://fbref.com/pt/equipes/c4260e09/Cagliari-Estatisticas\n",
      "Genoa ----------- https://fbref.com/pt/equipes/658bf2de/Genoa-Estatisticas\n",
      "Venezia ----------- https://fbref.com/pt/equipes/af5d5982/Venezia-Estatisticas\n",
      "Watford ----------- https://fbref.com/pt/equipes/2abfe087/Watford-Estatisticas\n",
      "Norwich City ----------- https://fbref.com/pt/equipes/1c781004/Norwich-City-Estatisticas\n",
      "Greuther Fürth ----------- https://fbref.com/pt/equipes/12192a4c/Greuther-Furth-Estatisticas\n",
      "Tempo de execução: 961.14 segundos\n"
     ]
    }
   ],
   "source": [
    "urls_dic_test = crawler(url, table_id)"
   ]
  },
  {
   "cell_type": "code",
   "execution_count": 5,
   "id": "cb492d33-46b9-49c8-8ba3-b9620d35627d",
   "metadata": {},
   "outputs": [],
   "source": [
    "#Salvar arquivo em formato json\n",
    "#a_file = open(\"./data/TEST_urls_dic.json\", \"w\")\n",
    "#json.dump(./data/urls_dic, a_file)\n",
    "#a_file.close()\n",
    "\n",
    "#Ler arquivo JSON\n",
    "#with open('./data/TEST_urls_dic.json', 'r') as f:\n",
    "#    data = json.load(f)"
   ]
  },
  {
   "cell_type": "code",
   "execution_count": 10,
   "id": "aed78974-0c73-4945-9249-51a131e3fab7",
   "metadata": {},
   "outputs": [
    {
     "data": {
      "text/plain": [
       "dict"
      ]
     },
     "execution_count": 10,
     "metadata": {},
     "output_type": "execute_result"
    }
   ],
   "source": [
    "type(data)"
   ]
  },
  {
   "cell_type": "code",
   "execution_count": 4,
   "id": "820c72b7-697d-4b17-9661-aa04c0b9c16b",
   "metadata": {},
   "outputs": [
    {
     "data": {
      "text/plain": [
       "'https://fbref.com/pt/equipes/dc56fe14/Milan-Estatisticas'"
      ]
     },
     "execution_count": 4,
     "metadata": {},
     "output_type": "execute_result"
    }
   ],
   "source": [
    "data[\"Milan\"]"
   ]
  }
 ],
 "metadata": {
  "kernelspec": {
   "display_name": "Python 3 (ipykernel)",
   "language": "python",
   "name": "python3"
  },
  "language_info": {
   "codemirror_mode": {
    "name": "ipython",
    "version": 3
   },
   "file_extension": ".py",
   "mimetype": "text/x-python",
   "name": "python",
   "nbconvert_exporter": "python",
   "pygments_lexer": "ipython3",
   "version": "3.9.7"
  }
 },
 "nbformat": 4,
 "nbformat_minor": 5
}
