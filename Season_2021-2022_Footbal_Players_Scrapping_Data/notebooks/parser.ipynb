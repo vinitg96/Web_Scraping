{
 "cells": [
  {
   "cell_type": "code",
   "execution_count": 1,
   "id": "0be7bb25-4d54-4df0-a8ca-b6468b6bae4c",
   "metadata": {},
   "outputs": [],
   "source": [
    "import requests\n",
    "from bs4 import BeautifulSoup\n",
    "import pandas as pd\n",
    "import numpy as np\n",
    "import re\n",
    "import json\n",
    "import time\n",
    "\n",
    "pd.set_option('display.max_rows', 200)\n",
    "pd.set_option('display.max_columns', None)"
   ]
  },
  {
   "cell_type": "code",
   "execution_count": 2,
   "id": "e5c3537e-d2bd-4786-8087-6cd0f137dcdf",
   "metadata": {},
   "outputs": [],
   "source": [
    "url = \"https://fbref.com/pt/equipes/e0652b02/Juventus-Estatisticas\""
   ]
  },
  {
   "cell_type": "code",
   "execution_count": 3,
   "id": "ef2a617a-4bd1-4611-b45d-bd012410cd6a",
   "metadata": {},
   "outputs": [],
   "source": [
    "site = requests.get(url)"
   ]
  },
  {
   "cell_type": "code",
   "execution_count": 4,
   "id": "9c8b7367-481f-49b1-91ff-f2df006eae74",
   "metadata": {},
   "outputs": [
    {
     "data": {
      "text/plain": [
       "<Response [200]>"
      ]
     },
     "execution_count": 4,
     "metadata": {},
     "output_type": "execute_result"
    }
   ],
   "source": [
    "site"
   ]
  },
  {
   "cell_type": "code",
   "execution_count": 5,
   "id": "33fe3912-9386-4776-9c32-1827a9c3456f",
   "metadata": {},
   "outputs": [],
   "source": [
    "bs = BeautifulSoup(site.content, \"html.parser\")"
   ]
  },
  {
   "cell_type": "code",
   "execution_count": 6,
   "id": "dc27266c-8f63-4619-a686-bd3255cbfe22",
   "metadata": {},
   "outputs": [
    {
     "data": {
      "text/plain": [
       "'Serie A'"
      ]
     },
     "execution_count": 6,
     "metadata": {},
     "output_type": "execute_result"
    }
   ],
   "source": [
    "league = bs.find(\"div\", {\"id\": \"meta\"}).find(\"span\", {\"class\":\"header_end\"}).get_text().replace(\")\", \"\").replace(\"(\", \"\")\n",
    "league"
   ]
  },
  {
   "cell_type": "code",
   "execution_count": 7,
   "id": "1cefea52-cb06-4c00-b222-bb8e7a263560",
   "metadata": {},
   "outputs": [],
   "source": [
    "table = bs.find(\"table\", {\"id\":re.compile(\"stats_standard\")})"
   ]
  },
  {
   "cell_type": "code",
   "execution_count": 8,
   "id": "f014e51e-e6e6-4d4b-8c9f-63f595d533bd",
   "metadata": {},
   "outputs": [
    {
     "data": {
      "text/plain": [
       "'Juventus'"
      ]
     },
     "execution_count": 8,
     "metadata": {},
     "output_type": "execute_result"
    }
   ],
   "source": [
    "club = table.find(\"span\").get_text()\n",
    "club = club[club.find(\" \"):club.find(\":\")].strip()\n",
    "club"
   ]
  },
  {
   "cell_type": "code",
   "execution_count": 10,
   "id": "deddcda4-0dd8-42c8-847b-0eb276d46f76",
   "metadata": {
    "tags": []
   },
   "outputs": [
    {
     "data": {
      "text/plain": [
       "['Jogador',\n",
       " 'Nação',\n",
       " 'Pos.',\n",
       " 'Idade',\n",
       " 'MP',\n",
       " 'Inícios',\n",
       " 'Min.',\n",
       " '90s',\n",
       " 'Gols',\n",
       " 'Assis.',\n",
       " 'G-PB',\n",
       " 'PB',\n",
       " 'PT',\n",
       " 'CrtsA',\n",
       " 'CrtV',\n",
       " 'Gols',\n",
       " 'Assis.',\n",
       " 'G+A',\n",
       " 'G-PB',\n",
       " 'G+A-PB',\n",
       " 'xG',\n",
       " 'npxG',\n",
       " 'xA',\n",
       " 'npxG+xA',\n",
       " 'xG',\n",
       " 'xA',\n",
       " 'xG+xA',\n",
       " 'npxG',\n",
       " 'npxG+xA',\n",
       " 'Partidas']"
      ]
     },
     "execution_count": 10,
     "metadata": {},
     "output_type": "execute_result"
    }
   ],
   "source": [
    "columns = []\n",
    "for column_name in table.thead.find_all(\"tr\")[1]:\n",
    "    result = column_name.get_text()\n",
    "    if result == \" \": #elimina espaços vazios\n",
    "        continue\n",
    "    columns.append(result)\n",
    "columns"
   ]
  },
  {
   "cell_type": "markdown",
   "id": "b62897d0-5199-477c-ad92-061552306880",
   "metadata": {},
   "source": [
    "# Buscando 1 Linha (1 Jogador)"
   ]
  },
  {
   "cell_type": "code",
   "execution_count": 18,
   "id": "ee5f5839-b3ba-4456-9f70-910438d0085c",
   "metadata": {},
   "outputs": [],
   "source": [
    "row = table.tbody.find_all(\"tr\")[1]"
   ]
  },
  {
   "cell_type": "code",
   "execution_count": 13,
   "id": "e2d67cbf-53d4-48b7-b262-966a84586f9c",
   "metadata": {
    "collapsed": true,
    "jupyter": {
     "outputs_hidden": true
    },
    "tags": []
   },
   "outputs": [
    {
     "data": {
      "text/plain": [
       "['nl NED',\n",
       " 'ZG',\n",
       " '21',\n",
       " '31',\n",
       " '29',\n",
       " '2.674',\n",
       " '29.7',\n",
       " '3',\n",
       " '1',\n",
       " '3',\n",
       " '0',\n",
       " '0',\n",
       " '4',\n",
       " '1',\n",
       " '0,10',\n",
       " '0,03',\n",
       " '0,13',\n",
       " '0,10',\n",
       " '0,13',\n",
       " '1.6',\n",
       " '1.6',\n",
       " '0.5',\n",
       " '2,1',\n",
       " '0,05',\n",
       " '0,02',\n",
       " '0,07',\n",
       " '0,05',\n",
       " '0,07',\n",
       " 'Partidas']"
      ]
     },
     "execution_count": 13,
     "metadata": {},
     "output_type": "execute_result"
    }
   ],
   "source": [
    "[data.get_text() for data in row.find_all(\"td\")]"
   ]
  },
  {
   "cell_type": "markdown",
   "id": "b64a5dfc-a2fa-42de-ade8-71fa9b714d87",
   "metadata": {},
   "source": [
    "A única informação contida nas linhas que não está em td é o nome do jogador"
   ]
  },
  {
   "cell_type": "code",
   "execution_count": 14,
   "id": "43eaeef7-0f95-4414-95cd-1aea9c23392f",
   "metadata": {},
   "outputs": [
    {
     "data": {
      "text/plain": [
       "'Matthijs de Ligt'"
      ]
     },
     "execution_count": 14,
     "metadata": {},
     "output_type": "execute_result"
    }
   ],
   "source": [
    "row.th.get_text()"
   ]
  },
  {
   "cell_type": "code",
   "execution_count": 19,
   "id": "7bccd9f0-fd75-464a-b76e-f5f40241743c",
   "metadata": {},
   "outputs": [],
   "source": [
    "all_data_row = [data.get_text() for data in row.find_all(\"td\")]\n",
    "all_data_row.insert(0, row.th.get_text())"
   ]
  },
  {
   "cell_type": "code",
   "execution_count": 20,
   "id": "cd820934-ebcb-4fdd-bdfd-e73d7b61f9e6",
   "metadata": {},
   "outputs": [
    {
     "data": {
      "text/plain": [
       "['Matthijs de Ligt',\n",
       " 'nl NED',\n",
       " 'ZG',\n",
       " '21',\n",
       " '31',\n",
       " '29',\n",
       " '2.674',\n",
       " '29.7',\n",
       " '3',\n",
       " '1',\n",
       " '3',\n",
       " '0',\n",
       " '0',\n",
       " '4',\n",
       " '1',\n",
       " '0,10',\n",
       " '0,03',\n",
       " '0,13',\n",
       " '0,10',\n",
       " '0,13',\n",
       " '1.6',\n",
       " '1.6',\n",
       " '0.5',\n",
       " '2,1',\n",
       " '0,05',\n",
       " '0,02',\n",
       " '0,07',\n",
       " '0,05',\n",
       " '0,07',\n",
       " 'Partidas']"
      ]
     },
     "execution_count": 20,
     "metadata": {},
     "output_type": "execute_result"
    }
   ],
   "source": [
    "all_data_row"
   ]
  },
  {
   "cell_type": "markdown",
   "id": "f0ef4ded-2ed8-4048-b4fa-892fb6e16c9b",
   "metadata": {},
   "source": [
    "## Definindo Funções de Busca Para Todas as Linhas das Tabelas"
   ]
  },
  {
   "cell_type": "code",
   "execution_count": 23,
   "id": "4654b1ca-ae3c-4ac1-a896-3dec27a32a65",
   "metadata": {},
   "outputs": [],
   "source": [
    "def get_table(url):\n",
    "    \n",
    "    site = requests.get(url)\n",
    "    bs = BeautifulSoup(site.content, \"html.parser\")\n",
    "    \n",
    "    table = bs.find(\"table\", {\"id\":re.compile(\"stats_standard\")})\n",
    "    \n",
    "    league = bs.find(\"div\", {\"id\": \"meta\"}).find(\"span\", {\"class\":\"header_end\"}).get_text().replace(\")\", \"\").replace(\"(\", \"\")\n",
    "    club_name = table.find(\"span\").get_text()\n",
    "    club_name = club_name[club_name.find(\" \"):club_name.find(\":\")].strip()\n",
    "    \n",
    "    \n",
    "    columns = []\n",
    "    for column_name in table.thead.find_all(\"tr\")[1]:\n",
    "        result = column_name.get_text()\n",
    "        if result == \" \":\n",
    "            continue\n",
    "        columns.append(result)\n",
    "    \n",
    "    df = pd.DataFrame(columns=columns)\n",
    "    for row in table.tbody.find_all(\"tr\"):\n",
    "        #para cada linha pega o nome\n",
    "        name = row.find(\"th\").get_text()\n",
    "        #para cada linha pega todos os td\n",
    "        result = [i.get_text() for i in row.find_all(\"td\")]  #[1:]]\n",
    "        \n",
    "        result.insert(0,name)\n",
    "\n",
    "        df.loc[len(df)] = result\n",
    "        \n",
    "    df[\"Liga\"] = league\n",
    "    df[\"Clube\"] = club_name\n",
    "    return df"
   ]
  },
  {
   "cell_type": "code",
   "execution_count": 24,
   "id": "0d231d20-dd93-4ebe-9ce4-2fc3982f8304",
   "metadata": {},
   "outputs": [],
   "source": [
    "def format_table(df):\n",
    "    \n",
    "    df = df.replace(\"\", np.nan)\n",
    "    df = df.dropna()\n",
    "\n",
    "    for i in range(len(df.columns)):\n",
    "        df.iloc[:,i] = df.iloc[:,i].apply(lambda x: str(x).replace(\",\",\".\"))\n",
    "\n",
    "    df[\"Min.\"] = df[\"Min.\"].apply(lambda x: str(x).replace(\".\",\"\"))\n",
    "    \n",
    "    #ajustar pais\n",
    "    df[\"Nação\"] = df[\"Nação\"].apply(lambda x: x[str(x).find(\" \"):].strip())\n",
    "    \n",
    "    df.iloc[:, 15:30] = np.nan\n",
    "    df = df.dropna(axis=1)\n",
    "    \n",
    "\n",
    "    l1 = [\"ZG\", \"LE\", \"LD\", \"CB\"]\n",
    "    d1 = dict.fromkeys(l1, 'DEF')\n",
    "\n",
    "    l2 = [\"LT\", \"MC\", \"ME\", \"MD\", \"GM\", \"MA\"]\n",
    "    d2 = dict.fromkeys(l2, 'MEI')\n",
    "\n",
    "    l3 = [\"AT\", \"PE\", \"PD\"]\n",
    "    d3 = dict.fromkeys(l3, 'ATA')\n",
    "\n",
    "    d4 = {\"G\":\"GK\"}\n",
    "\n",
    "    d5 = dict(d1)\n",
    "    d5.update(d2)\n",
    "    d5.update(d3)\n",
    "    d5.update(d4)\n",
    "    \n",
    "    df[\"Pos.\"] = df[\"Pos.\"].str.split(\".\", expand=True).rename(columns={0:\"Pos1\",1:\"Pos2\"}).iloc[:,0].map(d5)\n",
    "    \n",
    "    \n",
    "    cols_order = ['Jogador', 'Liga','Clube', 'Nação', 'Pos.', 'Idade', 'MP', 'Inícios', 'Min.', '90s', 'Gols', 'Assis.', 'G-PB', 'PB', 'PT', 'CrtsA', 'CrtV']\n",
    "    df = df[cols_order]\n",
    "        \n",
    "    \n",
    "    \n",
    "    int_cols = [\"Idade\",\"MP\",\"Inícios\",\"Min.\", \"Gols\",\"Assis.\",\"G-PB\", \"PB\", \"PT\",\"CrtsA\",\"CrtV\"]\n",
    "    float_cols = [\"90s\"]\n",
    "    \n",
    "    for col in int_cols:\n",
    "        df[col] = df[col].astype(int)\n",
    "        \n",
    "    for col in float_cols:\n",
    "        df[col] = df[col].astype(float)\n",
    "    \n",
    "\n",
    "    df[\"G_90\"] = (df[\"Gols\"] / df[\"90s\"]).round(2)\n",
    "    df[\"A_90\"] = (df[\"Assis.\"] / df[\"90s\"]).round(2)\n",
    "    df[\"G+A_90\"] = ((df[\"Gols\"] + df[\"Assis.\"]) / df[\"90s\"]).round(2)\n",
    "    \n",
    "    #garantir que nao tenha NA\n",
    "    df = df.dropna()\n",
    "    \n",
    "    return df\n"
   ]
  },
  {
   "cell_type": "code",
   "execution_count": 21,
   "id": "d77a89c5-f2a7-4d26-9d8c-031a7e7748ab",
   "metadata": {},
   "outputs": [],
   "source": [
    "with open('urls_dic2.json', 'r') as f:\n",
    "    data = json.load(f)"
   ]
  },
  {
   "cell_type": "code",
   "execution_count": 29,
   "id": "ad1d4db1-24fb-40bc-80bc-ffa72177f413",
   "metadata": {
    "collapsed": true,
    "jupyter": {
     "outputs_hidden": true
    },
    "tags": []
   },
   "outputs": [
    {
     "data": {
      "text/plain": [
       "{'Manchester City': 'https://fbref.com/pt/equipes/b8fd03ef/Manchester-City-Estatisticas',\n",
       " 'Liverpool': 'https://fbref.com/pt/equipes/822bd0ba/Liverpool-Estatisticas',\n",
       " 'Bayern Munich': 'https://fbref.com/pt/equipes/054efa67/Bayern-Munich-Estatisticas',\n",
       " 'Paris S-G': 'https://fbref.com/pt/equipes/e2d8892c/Paris-Saint-Germain-Estatisticas',\n",
       " 'Real Madrid': 'https://fbref.com/pt/equipes/53a2f082/Real-Madrid-Estatisticas',\n",
       " 'Milan': 'https://fbref.com/pt/equipes/dc56fe14/Milan-Estatisticas',\n",
       " 'Inter': 'https://fbref.com/pt/equipes/d609edc0/Internazionale-Estatisticas',\n",
       " 'Napoli': 'https://fbref.com/pt/equipes/d48ad4ff/Napoli-Estatisticas',\n",
       " 'Dortmund': 'https://fbref.com/pt/equipes/add600ae/Dortmund-Estatisticas',\n",
       " 'Chelsea': 'https://fbref.com/pt/equipes/cff3d9bb/Chelsea-Estatisticas',\n",
       " 'Barcelona': 'https://fbref.com/pt/equipes/206d90db/Barcelona-Estatisticas',\n",
       " 'Leverkusen': 'https://fbref.com/pt/equipes/c7a9f859/Bayer-Leverkusen-Estatisticas',\n",
       " 'Tottenham': 'https://fbref.com/pt/equipes/361ca564/Tottenham-Hotspur-Estatisticas',\n",
       " 'Marseille': 'https://fbref.com/pt/equipes/5725cc7b/Marseille-Estatisticas',\n",
       " 'Atlético Madrid': 'https://fbref.com/pt/equipes/db3b9613/Atletico-Madrid-Estatisticas',\n",
       " 'Sevilla': 'https://fbref.com/pt/equipes/ad2be733/Sevilla-Estatisticas',\n",
       " 'Juventus': 'https://fbref.com/pt/equipes/e0652b02/Juventus-Estatisticas',\n",
       " 'Monaco': 'https://fbref.com/pt/equipes/fd6114db/Monaco-Estatisticas',\n",
       " 'Arsenal': 'https://fbref.com/pt/equipes/18bb7c10/Arsenal-Estatisticas',\n",
       " 'Rennes': 'https://fbref.com/pt/equipes/b3072e00/Rennes-Estatisticas',\n",
       " 'Nice': 'https://fbref.com/pt/equipes/132ebc33/Nice-Estatisticas',\n",
       " 'RB Leipzig': 'https://fbref.com/pt/equipes/acbb6a5b/RB-Leipzig-Estatisticas',\n",
       " 'Betis': 'https://fbref.com/pt/equipes/fc536746/Real-Betis-Estatisticas',\n",
       " 'Lazio': 'https://fbref.com/pt/equipes/7213da33/Lazio-Estatisticas',\n",
       " 'Union Berlin': 'https://fbref.com/pt/equipes/7a41008f/Union-Berlin-Estatisticas',\n",
       " 'Strasbourg': 'https://fbref.com/pt/equipes/c0d3eab4/Strasbourg-Estatisticas',\n",
       " 'Roma': 'https://fbref.com/pt/equipes/cf74a709/Roma-Estatisticas',\n",
       " 'Lens': 'https://fbref.com/pt/equipes/fd4e0f7d/Lens-Estatisticas',\n",
       " 'Fiorentina': 'https://fbref.com/pt/equipes/421387cf/Fiorentina-Estatisticas',\n",
       " 'Real Sociedad': 'https://fbref.com/pt/equipes/e31d1cd9/Real-Sociedad-Estatisticas',\n",
       " 'Freiburg': 'https://fbref.com/pt/equipes/a486e511/Freiburg-Estatisticas',\n",
       " 'Lyon': 'https://fbref.com/pt/equipes/d53c0b06/Lyon-Estatisticas',\n",
       " 'Villarreal': 'https://fbref.com/pt/equipes/2a8183b3/Villarreal-Estatisticas',\n",
       " 'Atalanta': 'https://fbref.com/pt/equipes/922493f3/Atalanta-Estatisticas',\n",
       " 'Köln': 'https://fbref.com/pt/equipes/bc357bf7/Koln-Estatisticas',\n",
       " 'Manchester Utd': 'https://fbref.com/pt/equipes/19538871/Manchester-United-Estatisticas',\n",
       " 'West Ham': 'https://fbref.com/pt/equipes/7c21e445/West-Ham-United-Estatisticas',\n",
       " 'Nantes': 'https://fbref.com/pt/equipes/d7a486cd/Nantes-Estatisticas',\n",
       " 'Athletic Club': 'https://fbref.com/pt/equipes/2b390eca/Athletic-Club-Estatisticas',\n",
       " 'Lille': 'https://fbref.com/pt/equipes/cb188c0c/Lille-Estatisticas',\n",
       " 'Hellas Verona': 'https://fbref.com/pt/equipes/0e72edf2/Hellas-Verona-Estatisticas',\n",
       " 'Leicester City': 'https://fbref.com/pt/equipes/a2d435b3/Leicester-City-Estatisticas',\n",
       " 'Mainz 05': 'https://fbref.com/pt/equipes/a224b06a/Mainz-05-Estatisticas',\n",
       " 'Hoffenheim': 'https://fbref.com/pt/equipes/033ea6b8/Hoffenheim-Estatisticas',\n",
       " 'Brighton': 'https://fbref.com/pt/equipes/d07537b9/Brighton-and-Hove-Albion-Estatisticas',\n",
       " 'Wolves': 'https://fbref.com/pt/equipes/8cec06e1/Wolverhampton-Wanderers-Estatisticas',\n",
       " 'Torino': 'https://fbref.com/pt/equipes/105360fe/Torino-Estatisticas',\n",
       " 'Sassuolo': 'https://fbref.com/pt/equipes/e2befd26/Sassuolo-Estatisticas',\n",
       " \"M'Gladbach\": 'https://fbref.com/pt/equipes/32f3ee20/Monchengladbach-Estatisticas',\n",
       " 'Newcastle Utd': 'https://fbref.com/pt/equipes/b2b47a98/Newcastle-United-Estatisticas',\n",
       " 'Crystal Palace': 'https://fbref.com/pt/equipes/47c64c55/Crystal-Palace-Estatisticas',\n",
       " 'Valencia': 'https://fbref.com/pt/equipes/dcc91a7b/Valencia-Estatisticas',\n",
       " 'Brest': 'https://fbref.com/pt/equipes/fb08dbb3/Brest-Estatisticas',\n",
       " 'Udinese': 'https://fbref.com/pt/equipes/04eea015/Udinese-Estatisticas',\n",
       " 'Eint Frankfurt': 'https://fbref.com/pt/equipes/f0ac8ee6/Eintracht-Frankfurt-Estatisticas',\n",
       " 'Wolfsburg': 'https://fbref.com/pt/equipes/4eaa11d7/Wolfsburg-Estatisticas',\n",
       " 'Bochum': 'https://fbref.com/pt/equipes/b42c6323/Bochum-Estatisticas',\n",
       " 'Osasuna': 'https://fbref.com/pt/equipes/03c57e2b/Osasuna-Estatisticas',\n",
       " 'Celta Vigo': 'https://fbref.com/pt/equipes/f25da7fb/Celta-Vigo-Estatisticas',\n",
       " 'Reims': 'https://fbref.com/pt/equipes/7fdd64e0/Reims-Estatisticas',\n",
       " 'Brentford': 'https://fbref.com/pt/equipes/cd051869/Brentford-Estatisticas',\n",
       " 'Bologna': 'https://fbref.com/pt/equipes/1d8099f8/Bologna-Estatisticas',\n",
       " 'Aston Villa': 'https://fbref.com/pt/equipes/8602292d/Aston-Villa-Estatisticas',\n",
       " 'Montpellier': 'https://fbref.com/pt/equipes/281b0e73/Montpellier-Estatisticas',\n",
       " 'Augsburg': 'https://fbref.com/pt/equipes/0cdc4311/Augsburg-Estatisticas',\n",
       " 'Rayo Vallecano': 'https://fbref.com/pt/equipes/98e8af82/Rayo-Vallecano-Estatisticas',\n",
       " 'Elche': 'https://fbref.com/pt/equipes/6c8b07df/Elche-Estatisticas',\n",
       " 'Espanyol': 'https://fbref.com/pt/equipes/a8661628/Espanyol-Estatisticas',\n",
       " 'Angers': 'https://fbref.com/pt/equipes/69236f98/Angers-Estatisticas',\n",
       " 'Empoli': 'https://fbref.com/pt/equipes/a3d88bd8/Empoli-Estatisticas',\n",
       " 'Southampton': 'https://fbref.com/pt/equipes/33c895d4/Southampton-Estatisticas',\n",
       " 'Getafe': 'https://fbref.com/pt/equipes/7848bd64/Getafe-Estatisticas',\n",
       " 'Cádiz': 'https://fbref.com/pt/equipes/ee7c297c/Cadiz-Estatisticas',\n",
       " 'Everton': 'https://fbref.com/pt/equipes/d3fd31cc/Everton-Estatisticas',\n",
       " 'Mallorca': 'https://fbref.com/pt/equipes/2aa12281/Mallorca-Estatisticas',\n",
       " 'Troyes': 'https://fbref.com/pt/equipes/54195385/Troyes-Estatisticas',\n",
       " 'Granada': 'https://fbref.com/pt/equipes/a0435291/Granada-Estatisticas',\n",
       " 'Leeds United': 'https://fbref.com/pt/equipes/5bfb9659/Leeds-United-Estatisticas',\n",
       " 'Stuttgart': 'https://fbref.com/pt/equipes/598bc722/Stuttgart-Estatisticas',\n",
       " 'Hertha BSC': 'https://fbref.com/pt/equipes/2818f8bc/Hertha-BSC-Estatisticas',\n",
       " 'Sampdoria': 'https://fbref.com/pt/equipes/8ff9e3b3/Sampdoria-Estatisticas',\n",
       " 'Lorient': 'https://fbref.com/pt/equipes/d2c87802/Lorient-Estatisticas',\n",
       " 'Spezia': 'https://fbref.com/pt/equipes/68449f6d/Spezia-Estatisticas',\n",
       " 'Clermont Foot': 'https://fbref.com/pt/equipes/d9676424/Clermont-Foot-Estatisticas',\n",
       " 'Burnley': 'https://fbref.com/pt/equipes/943e8050/Burnley-Estatisticas',\n",
       " 'Levante': 'https://fbref.com/pt/equipes/9800b6a1/Levante-Estatisticas',\n",
       " 'Saint-Étienne': 'https://fbref.com/pt/equipes/d298ef2c/Saint-Etienne-Estatisticas',\n",
       " 'Arminia': 'https://fbref.com/pt/equipes/247c4b67/Arminia-Estatisticas',\n",
       " 'Alavés': 'https://fbref.com/pt/equipes/8d6fd021/Alaves-Estatisticas',\n",
       " 'Metz': 'https://fbref.com/pt/equipes/f83960ae/Metz-Estatisticas',\n",
       " 'Bordeaux': 'https://fbref.com/pt/equipes/123f3efe/Bordeaux-Estatisticas',\n",
       " 'Salernitana': 'https://fbref.com/pt/equipes/c5577084/Salernitana-Estatisticas',\n",
       " 'Cagliari': 'https://fbref.com/pt/equipes/c4260e09/Cagliari-Estatisticas',\n",
       " 'Genoa': 'https://fbref.com/pt/equipes/658bf2de/Genoa-Estatisticas',\n",
       " 'Venezia': 'https://fbref.com/pt/equipes/af5d5982/Venezia-Estatisticas',\n",
       " 'Watford': 'https://fbref.com/pt/equipes/2abfe087/Watford-Estatisticas',\n",
       " 'Norwich City': 'https://fbref.com/pt/equipes/1c781004/Norwich-City-Estatisticas',\n",
       " 'Greuther Fürth': 'https://fbref.com/pt/equipes/12192a4c/Greuther-Furth-Estatisticas'}"
      ]
     },
     "execution_count": 29,
     "metadata": {},
     "output_type": "execute_result"
    }
   ],
   "source": [
    "data"
   ]
  },
  {
   "cell_type": "code",
   "execution_count": 30,
   "id": "82d6f37b-f3fc-485b-bf58-6ecd5c590568",
   "metadata": {},
   "outputs": [
    {
     "data": {
      "text/plain": [
       "dict"
      ]
     },
     "execution_count": 30,
     "metadata": {},
     "output_type": "execute_result"
    }
   ],
   "source": [
    "type(data)"
   ]
  },
  {
   "cell_type": "code",
   "execution_count": 31,
   "id": "e04d6667-b4c9-42d0-bacd-7d68a315061b",
   "metadata": {},
   "outputs": [
    {
     "data": {
      "text/plain": [
       "98"
      ]
     },
     "execution_count": 31,
     "metadata": {},
     "output_type": "execute_result"
    }
   ],
   "source": [
    "len(data)"
   ]
  },
  {
   "cell_type": "code",
   "execution_count": 25,
   "id": "a2482013-28a7-4282-ab2c-c586ea1d0b1b",
   "metadata": {},
   "outputs": [],
   "source": [
    "df = get_table(data[\"Juventus\"])"
   ]
  },
  {
   "cell_type": "code",
   "execution_count": 26,
   "id": "8d9f08b9-f59d-4393-8b11-042c61c8a595",
   "metadata": {},
   "outputs": [],
   "source": [
    "df = format_table(df)"
   ]
  },
  {
   "cell_type": "code",
   "execution_count": 27,
   "id": "6766b73e-76aa-4ecb-8917-bd09825dc323",
   "metadata": {},
   "outputs": [
    {
     "data": {
      "text/html": [
       "<div>\n",
       "<style scoped>\n",
       "    .dataframe tbody tr th:only-of-type {\n",
       "        vertical-align: middle;\n",
       "    }\n",
       "\n",
       "    .dataframe tbody tr th {\n",
       "        vertical-align: top;\n",
       "    }\n",
       "\n",
       "    .dataframe thead th {\n",
       "        text-align: right;\n",
       "    }\n",
       "</style>\n",
       "<table border=\"1\" class=\"dataframe\">\n",
       "  <thead>\n",
       "    <tr style=\"text-align: right;\">\n",
       "      <th></th>\n",
       "      <th>Jogador</th>\n",
       "      <th>Liga</th>\n",
       "      <th>Clube</th>\n",
       "      <th>Nação</th>\n",
       "      <th>Pos.</th>\n",
       "      <th>Idade</th>\n",
       "      <th>MP</th>\n",
       "      <th>Inícios</th>\n",
       "      <th>Min.</th>\n",
       "      <th>90s</th>\n",
       "      <th>Gols</th>\n",
       "      <th>Assis.</th>\n",
       "      <th>G-PB</th>\n",
       "      <th>PB</th>\n",
       "      <th>PT</th>\n",
       "      <th>CrtsA</th>\n",
       "      <th>CrtV</th>\n",
       "      <th>G_90</th>\n",
       "      <th>A_90</th>\n",
       "      <th>G+A_90</th>\n",
       "    </tr>\n",
       "  </thead>\n",
       "  <tbody>\n",
       "    <tr>\n",
       "      <th>0</th>\n",
       "      <td>Wojciech Szczęsny</td>\n",
       "      <td>Serie A</td>\n",
       "      <td>Juventus</td>\n",
       "      <td>POL</td>\n",
       "      <td>GK</td>\n",
       "      <td>31</td>\n",
       "      <td>33</td>\n",
       "      <td>33</td>\n",
       "      <td>2970</td>\n",
       "      <td>33.0</td>\n",
       "      <td>0</td>\n",
       "      <td>0</td>\n",
       "      <td>0</td>\n",
       "      <td>0</td>\n",
       "      <td>0</td>\n",
       "      <td>2</td>\n",
       "      <td>0</td>\n",
       "      <td>0.00</td>\n",
       "      <td>0.00</td>\n",
       "      <td>0.00</td>\n",
       "    </tr>\n",
       "    <tr>\n",
       "      <th>1</th>\n",
       "      <td>Matthijs de Ligt</td>\n",
       "      <td>Serie A</td>\n",
       "      <td>Juventus</td>\n",
       "      <td>NED</td>\n",
       "      <td>DEF</td>\n",
       "      <td>21</td>\n",
       "      <td>31</td>\n",
       "      <td>29</td>\n",
       "      <td>2674</td>\n",
       "      <td>29.7</td>\n",
       "      <td>3</td>\n",
       "      <td>1</td>\n",
       "      <td>3</td>\n",
       "      <td>0</td>\n",
       "      <td>0</td>\n",
       "      <td>4</td>\n",
       "      <td>1</td>\n",
       "      <td>0.10</td>\n",
       "      <td>0.03</td>\n",
       "      <td>0.13</td>\n",
       "    </tr>\n",
       "    <tr>\n",
       "      <th>2</th>\n",
       "      <td>Juan Cuadrado</td>\n",
       "      <td>Serie A</td>\n",
       "      <td>Juventus</td>\n",
       "      <td>COL</td>\n",
       "      <td>DEF</td>\n",
       "      <td>33</td>\n",
       "      <td>33</td>\n",
       "      <td>28</td>\n",
       "      <td>2487</td>\n",
       "      <td>27.6</td>\n",
       "      <td>4</td>\n",
       "      <td>3</td>\n",
       "      <td>4</td>\n",
       "      <td>0</td>\n",
       "      <td>0</td>\n",
       "      <td>9</td>\n",
       "      <td>0</td>\n",
       "      <td>0.14</td>\n",
       "      <td>0.11</td>\n",
       "      <td>0.25</td>\n",
       "    </tr>\n",
       "    <tr>\n",
       "      <th>3</th>\n",
       "      <td>Adrien Rabiot</td>\n",
       "      <td>Serie A</td>\n",
       "      <td>Juventus</td>\n",
       "      <td>FRA</td>\n",
       "      <td>MEI</td>\n",
       "      <td>26</td>\n",
       "      <td>32</td>\n",
       "      <td>28</td>\n",
       "      <td>2285</td>\n",
       "      <td>25.4</td>\n",
       "      <td>0</td>\n",
       "      <td>2</td>\n",
       "      <td>0</td>\n",
       "      <td>0</td>\n",
       "      <td>0</td>\n",
       "      <td>5</td>\n",
       "      <td>0</td>\n",
       "      <td>0.00</td>\n",
       "      <td>0.08</td>\n",
       "      <td>0.08</td>\n",
       "    </tr>\n",
       "    <tr>\n",
       "      <th>4</th>\n",
       "      <td>Álvaro Morata</td>\n",
       "      <td>Serie A</td>\n",
       "      <td>Juventus</td>\n",
       "      <td>ESP</td>\n",
       "      <td>ATA</td>\n",
       "      <td>28</td>\n",
       "      <td>35</td>\n",
       "      <td>26</td>\n",
       "      <td>2302</td>\n",
       "      <td>25.6</td>\n",
       "      <td>9</td>\n",
       "      <td>4</td>\n",
       "      <td>8</td>\n",
       "      <td>1</td>\n",
       "      <td>1</td>\n",
       "      <td>5</td>\n",
       "      <td>0</td>\n",
       "      <td>0.35</td>\n",
       "      <td>0.16</td>\n",
       "      <td>0.51</td>\n",
       "    </tr>\n",
       "  </tbody>\n",
       "</table>\n",
       "</div>"
      ],
      "text/plain": [
       "             Jogador     Liga     Clube Nação Pos.  Idade  MP  Inícios  Min.  \\\n",
       "0  Wojciech Szczęsny  Serie A  Juventus   POL   GK     31  33       33  2970   \n",
       "1   Matthijs de Ligt  Serie A  Juventus   NED  DEF     21  31       29  2674   \n",
       "2      Juan Cuadrado  Serie A  Juventus   COL  DEF     33  33       28  2487   \n",
       "3      Adrien Rabiot  Serie A  Juventus   FRA  MEI     26  32       28  2285   \n",
       "4      Álvaro Morata  Serie A  Juventus   ESP  ATA     28  35       26  2302   \n",
       "\n",
       "    90s  Gols  Assis.  G-PB  PB  PT  CrtsA  CrtV  G_90  A_90  G+A_90  \n",
       "0  33.0     0       0     0   0   0      2     0  0.00  0.00    0.00  \n",
       "1  29.7     3       1     3   0   0      4     1  0.10  0.03    0.13  \n",
       "2  27.6     4       3     4   0   0      9     0  0.14  0.11    0.25  \n",
       "3  25.4     0       2     0   0   0      5     0  0.00  0.08    0.08  \n",
       "4  25.6     9       4     8   1   1      5     0  0.35  0.16    0.51  "
      ]
     },
     "execution_count": 27,
     "metadata": {},
     "output_type": "execute_result"
    }
   ],
   "source": [
    "df.head()"
   ]
  },
  {
   "cell_type": "code",
   "execution_count": 29,
   "id": "17b524c4-121b-4793-b67c-dcaf51ade581",
   "metadata": {},
   "outputs": [
    {
     "data": {
      "text/plain": [
       "98"
      ]
     },
     "execution_count": 29,
     "metadata": {},
     "output_type": "execute_result"
    }
   ],
   "source": [
    "len(data)"
   ]
  },
  {
   "cell_type": "markdown",
   "id": "65a7a2b1-1020-49fc-af6f-4e8ec9df34d9",
   "metadata": {},
   "source": [
    "## Executando Funções"
   ]
  },
  {
   "cell_type": "code",
   "execution_count": 6,
   "id": "26f34736-6889-43d1-81b1-c576069341b1",
   "metadata": {
    "tags": []
   },
   "outputs": [
    {
     "name": "stdout",
     "output_type": "stream",
     "text": [
      "Manchester City --------- OK------------- 0 \\ 98 \n",
      "Liverpool --------- OK------------- 1 \\ 98 \n",
      "Bayern Munich --------- OK------------- 2 \\ 98 \n",
      "Paris S-G --------- OK------------- 3 \\ 98 \n",
      "Real Madrid --------- OK------------- 4 \\ 98 \n",
      "Milan --------- OK------------- 5 \\ 98 \n",
      "Inter --------- OK------------- 6 \\ 98 \n",
      "Napoli --------- OK------------- 7 \\ 98 \n",
      "Dortmund --------- OK------------- 8 \\ 98 \n",
      "Chelsea --------- OK------------- 9 \\ 98 \n",
      "Barcelona --------- OK------------- 10 \\ 98 \n",
      "Leverkusen --------- OK------------- 11 \\ 98 \n",
      "Tottenham --------- OK------------- 12 \\ 98 \n",
      "Marseille --------- OK------------- 13 \\ 98 \n",
      "Atlético Madrid --------- OK------------- 14 \\ 98 \n",
      "Sevilla --------- OK------------- 15 \\ 98 \n",
      "Juventus --------- OK------------- 16 \\ 98 \n",
      "Monaco --------- OK------------- 17 \\ 98 \n",
      "Arsenal --------- OK------------- 18 \\ 98 \n",
      "Rennes --------- OK------------- 19 \\ 98 \n",
      "Nice --------- OK------------- 20 \\ 98 \n",
      "RB Leipzig --------- OK------------- 21 \\ 98 \n",
      "Betis --------- OK------------- 22 \\ 98 \n",
      "Lazio --------- OK------------- 23 \\ 98 \n",
      "Union Berlin --------- OK------------- 24 \\ 98 \n",
      "Strasbourg --------- OK------------- 25 \\ 98 \n",
      "Roma --------- OK------------- 26 \\ 98 \n",
      "Lens --------- OK------------- 27 \\ 98 \n",
      "Fiorentina --------- OK------------- 28 \\ 98 \n",
      "Real Sociedad --------- OK------------- 29 \\ 98 \n",
      "Freiburg --------- OK------------- 30 \\ 98 \n",
      "Lyon --------- OK------------- 31 \\ 98 \n",
      "Villarreal --------- OK------------- 32 \\ 98 \n",
      "Atalanta --------- OK------------- 33 \\ 98 \n",
      "Köln --------- OK------------- 34 \\ 98 \n",
      "Manchester Utd --------- OK------------- 35 \\ 98 \n",
      "West Ham --------- OK------------- 36 \\ 98 \n",
      "Nantes --------- OK------------- 37 \\ 98 \n",
      "Athletic Club --------- OK------------- 38 \\ 98 \n",
      "Lille --------- OK------------- 39 \\ 98 \n",
      "Hellas Verona --------- OK------------- 40 \\ 98 \n",
      "Leicester City --------- OK------------- 41 \\ 98 \n",
      "Mainz 05 --------- OK------------- 42 \\ 98 \n",
      "Hoffenheim --------- OK------------- 43 \\ 98 \n",
      "Brighton --------- OK------------- 44 \\ 98 \n",
      "Wolves --------- OK------------- 45 \\ 98 \n",
      "Torino --------- OK------------- 46 \\ 98 \n",
      "Sassuolo --------- OK------------- 47 \\ 98 \n",
      "M'Gladbach --------- OK------------- 48 \\ 98 \n",
      "Newcastle Utd --------- OK------------- 49 \\ 98 \n",
      "Crystal Palace --------- OK------------- 50 \\ 98 \n",
      "Valencia --------- OK------------- 51 \\ 98 \n",
      "Brest --------- OK------------- 52 \\ 98 \n",
      "Udinese --------- OK------------- 53 \\ 98 \n",
      "Eint Frankfurt --------- OK------------- 54 \\ 98 \n",
      "Wolfsburg --------- OK------------- 55 \\ 98 \n",
      "Bochum --------- OK------------- 56 \\ 98 \n",
      "Osasuna --------- OK------------- 57 \\ 98 \n",
      "Celta Vigo --------- OK------------- 58 \\ 98 \n",
      "Reims --------- OK------------- 59 \\ 98 \n",
      "Brentford --------- OK------------- 60 \\ 98 \n",
      "Bologna --------- OK------------- 61 \\ 98 \n",
      "Aston Villa --------- OK------------- 62 \\ 98 \n",
      "Montpellier --------- OK------------- 63 \\ 98 \n",
      "Augsburg --------- OK------------- 64 \\ 98 \n",
      "Rayo Vallecano --------- OK------------- 65 \\ 98 \n",
      "Elche --------- OK------------- 66 \\ 98 \n",
      "Espanyol --------- OK------------- 67 \\ 98 \n",
      "Angers --------- OK------------- 68 \\ 98 \n",
      "Empoli --------- OK------------- 69 \\ 98 \n",
      "Southampton --------- OK------------- 70 \\ 98 \n",
      "Getafe --------- OK------------- 71 \\ 98 \n",
      "Cádiz --------- OK------------- 72 \\ 98 \n",
      "Everton --------- OK------------- 73 \\ 98 \n",
      "Mallorca --------- OK------------- 74 \\ 98 \n",
      "Troyes --------- OK------------- 75 \\ 98 \n",
      "Granada --------- OK------------- 76 \\ 98 \n",
      "Leeds United --------- OK------------- 77 \\ 98 \n",
      "Stuttgart --------- OK------------- 78 \\ 98 \n",
      "Hertha BSC --------- OK------------- 79 \\ 98 \n",
      "Sampdoria --------- OK------------- 80 \\ 98 \n",
      "Lorient --------- OK------------- 81 \\ 98 \n",
      "Spezia --------- OK------------- 82 \\ 98 \n",
      "Clermont Foot --------- OK------------- 83 \\ 98 \n",
      "Burnley --------- OK------------- 84 \\ 98 \n",
      "Levante --------- OK------------- 85 \\ 98 \n",
      "Saint-Étienne --------- OK------------- 86 \\ 98 \n",
      "Arminia --------- OK------------- 87 \\ 98 \n",
      "Alavés --------- OK------------- 88 \\ 98 \n",
      "Metz --------- OK------------- 89 \\ 98 \n",
      "Bordeaux --------- OK------------- 90 \\ 98 \n",
      "Salernitana --------- OK------------- 91 \\ 98 \n",
      "Cagliari --------- OK------------- 92 \\ 98 \n",
      "Genoa --------- OK------------- 93 \\ 98 \n",
      "Venezia --------- OK------------- 94 \\ 98 \n",
      "Watford --------- OK------------- 95 \\ 98 \n",
      "Norwich City --------- OK------------- 96 \\ 98 \n",
      "Greuther Fürth --------- OK------------- 97 \\ 98 \n",
      "Tempo de execução: 1148.25 segundos\n"
     ]
    }
   ],
   "source": [
    "start_time = time.time()\n",
    "\n",
    "list_of_dfs = []\n",
    "i = 0\n",
    "for name, url in data.items():\n",
    "    time.sleep(10)\n",
    "    df = get_table(url)\n",
    "    df = format_table(df)\n",
    "    \n",
    "\n",
    "    list_of_dfs.append(df)\n",
    "    print(f\"{name} --------- OK------------- {i} \\ {len(data)} \")\n",
    "\n",
    "    i+=1\n",
    "final_df = pd.concat(list_of_dfs, ignore_index=True)\n",
    "print(f\"Tempo de execução: {round(time.time() - start_time, 2)} segundos\")"
   ]
  },
  {
   "cell_type": "code",
   "execution_count": 9,
   "id": "24ffca1a-3392-42f4-abcc-c7ee38b9e7c2",
   "metadata": {},
   "outputs": [],
   "source": [
    "#Salvando para csv\n",
    "#final_df.to_csv(\".data/df_data_players.csv\", index=False)\n",
    "\n",
    "#Lendo csv\n",
    "#final_df = pd.read_csv(\"./data/df_data_players.csv\")"
   ]
  },
  {
   "cell_type": "code",
   "execution_count": 37,
   "id": "3df8e49a-e378-437e-9a44-1b4bdc0d5c8f",
   "metadata": {},
   "outputs": [
    {
     "name": "stdout",
     "output_type": "stream",
     "text": [
      "<class 'pandas.core.frame.DataFrame'>\n",
      "RangeIndex: 2858 entries, 0 to 2857\n",
      "Data columns (total 20 columns):\n",
      " #   Column   Non-Null Count  Dtype  \n",
      "---  ------   --------------  -----  \n",
      " 0   Jogador  2858 non-null   object \n",
      " 1   Liga     2858 non-null   object \n",
      " 2   Clube    2858 non-null   object \n",
      " 3   Nação    2858 non-null   object \n",
      " 4   Pos.     2858 non-null   object \n",
      " 5   Idade    2858 non-null   int64  \n",
      " 6   MP       2858 non-null   int64  \n",
      " 7   Inícios  2858 non-null   int64  \n",
      " 8   Min.     2858 non-null   int64  \n",
      " 9   90s      2858 non-null   float64\n",
      " 10  Gols     2858 non-null   int64  \n",
      " 11  Assis.   2858 non-null   int64  \n",
      " 12  G-PB     2858 non-null   int64  \n",
      " 13  PB       2858 non-null   int64  \n",
      " 14  PT       2858 non-null   int64  \n",
      " 15  CrtsA    2858 non-null   int64  \n",
      " 16  CrtV     2858 non-null   int64  \n",
      " 17  G_90     2858 non-null   float64\n",
      " 18  A_90     2858 non-null   float64\n",
      " 19  G+A_90   2858 non-null   float64\n",
      "dtypes: float64(4), int64(11), object(5)\n",
      "memory usage: 446.7+ KB\n"
     ]
    }
   ],
   "source": [
    "final_df.info()"
   ]
  },
  {
   "cell_type": "code",
   "execution_count": 122,
   "id": "64d76062-361f-4a01-bc3a-0f346bb87c7e",
   "metadata": {},
   "outputs": [
    {
     "data": {
      "text/html": [
       "<div>\n",
       "<style scoped>\n",
       "    .dataframe tbody tr th:only-of-type {\n",
       "        vertical-align: middle;\n",
       "    }\n",
       "\n",
       "    .dataframe tbody tr th {\n",
       "        vertical-align: top;\n",
       "    }\n",
       "\n",
       "    .dataframe thead th {\n",
       "        text-align: right;\n",
       "    }\n",
       "</style>\n",
       "<table border=\"1\" class=\"dataframe\">\n",
       "  <thead>\n",
       "    <tr style=\"text-align: right;\">\n",
       "      <th></th>\n",
       "      <th>Jogador</th>\n",
       "      <th>Liga</th>\n",
       "      <th>Clube</th>\n",
       "      <th>Nação</th>\n",
       "      <th>Pos.</th>\n",
       "      <th>Idade</th>\n",
       "      <th>MP</th>\n",
       "      <th>Inícios</th>\n",
       "      <th>Min.</th>\n",
       "      <th>90s</th>\n",
       "      <th>Gols</th>\n",
       "      <th>Assis.</th>\n",
       "      <th>G-PB</th>\n",
       "      <th>PB</th>\n",
       "      <th>PT</th>\n",
       "      <th>CrtsA</th>\n",
       "      <th>CrtV</th>\n",
       "      <th>G_90</th>\n",
       "      <th>A_90</th>\n",
       "      <th>G+A_90</th>\n",
       "    </tr>\n",
       "  </thead>\n",
       "  <tbody>\n",
       "    <tr>\n",
       "      <th>0</th>\n",
       "      <td>Ederson</td>\n",
       "      <td>Premier League</td>\n",
       "      <td>Manchester City</td>\n",
       "      <td>BRA</td>\n",
       "      <td>GK</td>\n",
       "      <td>27</td>\n",
       "      <td>37</td>\n",
       "      <td>37</td>\n",
       "      <td>3330</td>\n",
       "      <td>37.0</td>\n",
       "      <td>0</td>\n",
       "      <td>0</td>\n",
       "      <td>0</td>\n",
       "      <td>0</td>\n",
       "      <td>0</td>\n",
       "      <td>3</td>\n",
       "      <td>0</td>\n",
       "      <td>0.00</td>\n",
       "      <td>0.00</td>\n",
       "      <td>0.00</td>\n",
       "    </tr>\n",
       "    <tr>\n",
       "      <th>1</th>\n",
       "      <td>João Cancelo</td>\n",
       "      <td>Premier League</td>\n",
       "      <td>Manchester City</td>\n",
       "      <td>POR</td>\n",
       "      <td>DEF</td>\n",
       "      <td>27</td>\n",
       "      <td>36</td>\n",
       "      <td>36</td>\n",
       "      <td>3227</td>\n",
       "      <td>35.9</td>\n",
       "      <td>1</td>\n",
       "      <td>7</td>\n",
       "      <td>1</td>\n",
       "      <td>0</td>\n",
       "      <td>0</td>\n",
       "      <td>7</td>\n",
       "      <td>0</td>\n",
       "      <td>0.03</td>\n",
       "      <td>0.19</td>\n",
       "      <td>0.22</td>\n",
       "    </tr>\n",
       "    <tr>\n",
       "      <th>2</th>\n",
       "      <td>Rodri</td>\n",
       "      <td>Premier League</td>\n",
       "      <td>Manchester City</td>\n",
       "      <td>ESP</td>\n",
       "      <td>MEI</td>\n",
       "      <td>25</td>\n",
       "      <td>33</td>\n",
       "      <td>33</td>\n",
       "      <td>2884</td>\n",
       "      <td>32.0</td>\n",
       "      <td>7</td>\n",
       "      <td>2</td>\n",
       "      <td>7</td>\n",
       "      <td>0</td>\n",
       "      <td>0</td>\n",
       "      <td>5</td>\n",
       "      <td>0</td>\n",
       "      <td>0.22</td>\n",
       "      <td>0.06</td>\n",
       "      <td>0.28</td>\n",
       "    </tr>\n",
       "    <tr>\n",
       "      <th>3</th>\n",
       "      <td>Bernardo Silva</td>\n",
       "      <td>Premier League</td>\n",
       "      <td>Manchester City</td>\n",
       "      <td>POR</td>\n",
       "      <td>MEI</td>\n",
       "      <td>26</td>\n",
       "      <td>35</td>\n",
       "      <td>33</td>\n",
       "      <td>2857</td>\n",
       "      <td>31.7</td>\n",
       "      <td>8</td>\n",
       "      <td>4</td>\n",
       "      <td>8</td>\n",
       "      <td>0</td>\n",
       "      <td>0</td>\n",
       "      <td>6</td>\n",
       "      <td>0</td>\n",
       "      <td>0.25</td>\n",
       "      <td>0.13</td>\n",
       "      <td>0.38</td>\n",
       "    </tr>\n",
       "    <tr>\n",
       "      <th>4</th>\n",
       "      <td>Aymeric Laporte</td>\n",
       "      <td>Premier League</td>\n",
       "      <td>Manchester City</td>\n",
       "      <td>ESP</td>\n",
       "      <td>DEF</td>\n",
       "      <td>27</td>\n",
       "      <td>33</td>\n",
       "      <td>33</td>\n",
       "      <td>2828</td>\n",
       "      <td>31.4</td>\n",
       "      <td>4</td>\n",
       "      <td>0</td>\n",
       "      <td>4</td>\n",
       "      <td>0</td>\n",
       "      <td>0</td>\n",
       "      <td>5</td>\n",
       "      <td>1</td>\n",
       "      <td>0.13</td>\n",
       "      <td>0.00</td>\n",
       "      <td>0.13</td>\n",
       "    </tr>\n",
       "  </tbody>\n",
       "</table>\n",
       "</div>"
      ],
      "text/plain": [
       "           Jogador            Liga            Clube Nação Pos. Idade  MP  \\\n",
       "0          Ederson  Premier League  Manchester City   BRA   GK    27  37   \n",
       "1     João Cancelo  Premier League  Manchester City   POR  DEF    27  36   \n",
       "2            Rodri  Premier League  Manchester City   ESP  MEI    25  33   \n",
       "3   Bernardo Silva  Premier League  Manchester City   POR  MEI    26  35   \n",
       "4  Aymeric Laporte  Premier League  Manchester City   ESP  DEF    27  33   \n",
       "\n",
       "  Inícios  Min.   90s  Gols  Assis.  G-PB  PB  PT  CrtsA  CrtV  G_90  A_90  \\\n",
       "0      37  3330  37.0     0       0     0   0   0      3     0  0.00  0.00   \n",
       "1      36  3227  35.9     1       7     1   0   0      7     0  0.03  0.19   \n",
       "2      33  2884  32.0     7       2     7   0   0      5     0  0.22  0.06   \n",
       "3      33  2857  31.7     8       4     8   0   0      6     0  0.25  0.13   \n",
       "4      33  2828  31.4     4       0     4   0   0      5     1  0.13  0.00   \n",
       "\n",
       "   G+A_90  \n",
       "0    0.00  \n",
       "1    0.22  \n",
       "2    0.28  \n",
       "3    0.38  \n",
       "4    0.13  "
      ]
     },
     "execution_count": 122,
     "metadata": {},
     "output_type": "execute_result"
    }
   ],
   "source": [
    "final_df.head()"
   ]
  },
  {
   "cell_type": "code",
   "execution_count": null,
   "id": "60b88771-6fbf-4725-a017-314505962a1a",
   "metadata": {},
   "outputs": [],
   "source": []
  }
 ],
 "metadata": {
  "kernelspec": {
   "display_name": "Python 3 (ipykernel)",
   "language": "python",
   "name": "python3"
  },
  "language_info": {
   "codemirror_mode": {
    "name": "ipython",
    "version": 3
   },
   "file_extension": ".py",
   "mimetype": "text/x-python",
   "name": "python",
   "nbconvert_exporter": "python",
   "pygments_lexer": "ipython3",
   "version": "3.9.7"
  }
 },
 "nbformat": 4,
 "nbformat_minor": 5
}
